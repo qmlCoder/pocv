{
 "cells": [
  {
   "cell_type": "code",
   "execution_count": 2,
   "metadata": {},
   "outputs": [
    {
     "name": "stdout",
     "output_type": "stream",
     "text": [
      "动态链接库目录 d:\\code\\pywfn\\pywfn\\libs\n",
      "当前系统:windows\n"
     ]
    }
   ],
   "source": [
    "import sys\n",
    "sys.path.append('d:/code/pywfn')\n",
    "from pywfn.base import Mol\n",
    "from pywfn.reader import LogReader\n",
    "from pywfn.atomprop import charge\n",
    "import numpy as np"
   ]
  },
  {
   "cell_type": "code",
   "execution_count": 3,
   "metadata": {},
   "outputs": [],
   "source": [
    "root='D:/gfile/pywfn/pi电子/没有D'\n",
    "# root='D:/gfile/pywfn/pi电子'\n",
    "names=['CH2CHCl.log','CO2.log','NO3.log','CO3.log','BF3.log','Ph2.log','NO2.log','CH2CHCH2+.log','CH2CHCHO.log','NNO.log']\n",
    "paths=[f'{root}/{name}' for name in names]\n",
    "mols=[Mol(LogReader(path)) for path in paths]"
   ]
  },
  {
   "cell_type": "code",
   "execution_count": 21,
   "metadata": {},
   "outputs": [
    {
     "name": "stdout",
     "output_type": "stream",
     "text": [
      "CH2CHCl.log\n"
     ]
    },
    {
     "data": {
      "text/plain": [
       "(array([[1.    , 0.    , 0.    , 1.    , 1.0106],\n",
       "        [2.    , 0.    , 0.    , 1.    , 0.    ],\n",
       "        [3.    , 0.    , 0.    , 1.    , 0.    ],\n",
       "        [4.    , 0.    , 0.    , 1.    , 1.0809],\n",
       "        [5.    , 0.    , 0.    , 1.    , 0.    ],\n",
       "        [6.    , 0.    , 0.    , 1.    , 2.0731]]),\n",
       " np.float64(4.164575285586991))"
      ]
     },
     "execution_count": 21,
     "metadata": {},
     "output_type": "execute_result"
    }
   ],
   "source": [
    "mol=mols[0]\n",
    "print(mol.reader.fname)\n",
    "caler=charge.Calculator(mol)\n",
    "vals=caler.piElectron('mulliken')\n",
    "vals,np.sum(vals[:,-1])"
   ]
  },
  {
   "cell_type": "code",
   "execution_count": 22,
   "metadata": {},
   "outputs": [
    {
     "name": "stdout",
     "output_type": "stream",
     "text": [
      "CO2.log\n"
     ]
    },
    {
     "data": {
      "text/plain": [
       "(array([[1.    , 0.    , 1.    , 0.    , 0.8382],\n",
       "        [2.    , 0.    , 1.    , 0.    , 1.5809],\n",
       "        [3.    , 0.    , 1.    , 0.    , 1.5809]]),\n",
       " np.float64(4.000003363896836))"
      ]
     },
     "execution_count": 22,
     "metadata": {},
     "output_type": "execute_result"
    }
   ],
   "source": [
    "mol=mols[1]\n",
    "for i in range(3):\n",
    "    mol.atom(i+1)._props['normal']=np.array([0,1,0],dtype=float)\n",
    "print(mol.reader.fname)\n",
    "caler=charge.Calculator(mol)\n",
    "vals=caler.piElectron('mulliken')\n",
    "vals,np.sum(vals[:,-1])"
   ]
  },
  {
   "cell_type": "code",
   "execution_count": 23,
   "metadata": {},
   "outputs": [
    {
     "name": "stdout",
     "output_type": "stream",
     "text": [
      "NO3.log\n"
     ]
    },
    {
     "data": {
      "text/plain": [
       "(array([[1.    , 0.    , 0.    , 1.    , 1.1547],\n",
       "        [2.    , 0.    , 0.    , 1.    , 1.5564],\n",
       "        [3.    , 0.    , 0.    , 1.    , 1.5564],\n",
       "        [4.    , 0.    , 0.    , 1.    , 1.5564]]),\n",
       " np.float64(5.8238702777698705))"
      ]
     },
     "execution_count": 23,
     "metadata": {},
     "output_type": "execute_result"
    }
   ],
   "source": [
    "mol=mols[2]\n",
    "print(mol.reader.fname)\n",
    "caler=charge.Calculator(mol)\n",
    "vals=caler.piElectron('mulliken')\n",
    "vals,np.sum(vals[:,-1])"
   ]
  },
  {
   "cell_type": "code",
   "execution_count": 24,
   "metadata": {},
   "outputs": [
    {
     "name": "stdout",
     "output_type": "stream",
     "text": [
      "CO3.log\n"
     ]
    },
    {
     "data": {
      "text/plain": [
       "(array([[ 1.    , -0.    ,  0.    ,  1.    ,  0.7937],\n",
       "        [ 2.    , -0.    ,  0.    ,  1.    ,  1.7069],\n",
       "        [ 3.    , -0.    ,  0.    ,  1.    ,  1.7069],\n",
       "        [ 4.    , -0.    ,  0.    ,  1.    ,  1.7069]]),\n",
       " np.float64(5.9142892729759975))"
      ]
     },
     "execution_count": 24,
     "metadata": {},
     "output_type": "execute_result"
    }
   ],
   "source": [
    "mol=mols[3]\n",
    "print(mol.reader.fname)\n",
    "caler=charge.Calculator(mol)\n",
    "vals=caler.piElectron('mulliken')\n",
    "vals,np.sum(vals[:,-1])"
   ]
  },
  {
   "cell_type": "code",
   "execution_count": 25,
   "metadata": {},
   "outputs": [
    {
     "name": "stdout",
     "output_type": "stream",
     "text": [
      "BF3.log\n"
     ]
    },
    {
     "data": {
      "text/plain": [
       "(array([[ 1.    , -0.    , -0.    ,  1.    ,  0.4176],\n",
       "        [ 2.    , -0.    , -0.    ,  1.    ,  1.8608],\n",
       "        [ 3.    , -0.    , -0.    ,  1.    ,  1.8608],\n",
       "        [ 4.    , -0.    , -0.    ,  1.    ,  1.8608]]),\n",
       " np.float64(6.000042409789458))"
      ]
     },
     "execution_count": 25,
     "metadata": {},
     "output_type": "execute_result"
    }
   ],
   "source": [
    "mol=mols[4]\n",
    "print(mol.reader.fname)\n",
    "caler=charge.Calculator(mol)\n",
    "vals=caler.piElectron('mulliken')\n",
    "vals,np.sum(vals[:,-1])"
   ]
  },
  {
   "cell_type": "code",
   "execution_count": 26,
   "metadata": {},
   "outputs": [
    {
     "name": "stdout",
     "output_type": "stream",
     "text": [
      "Ph2.log\n"
     ]
    },
    {
     "data": {
      "text/plain": [
       "(array([[ 1.    ,  1.    ,  0.    ,  0.    ,  1.0059],\n",
       "        [ 2.    , -1.    ,  0.    ,  0.    ,  1.0081],\n",
       "        [ 3.    ,  1.    ,  0.    ,  0.    ,  0.9718],\n",
       "        [ 4.    , -1.    ,  0.    ,  0.    ,  0.9718],\n",
       "        [ 5.    ,  1.    , -0.    ,  0.    ,  1.0081],\n",
       "        [ 6.    , -1.    ,  0.    , -0.    ,  1.0059],\n",
       "        [ 7.    , -1.    ,  0.    ,  0.    ,  0.    ],\n",
       "        [ 8.    ,  1.    ,  0.    ,  0.    ,  0.    ],\n",
       "        [ 9.    , -1.    ,  0.    ,  0.    ,  0.    ],\n",
       "        [10.    , -1.    ,  0.    ,  0.    ,  1.0081],\n",
       "        [11.    ,  1.    , -0.    ,  0.    ,  1.0081],\n",
       "        [12.    ,  1.    , -0.    ,  0.    ,  0.    ],\n",
       "        [13.    , -1.    ,  0.    , -0.    ,  0.    ],\n",
       "        [14.    ,  1.    , -0.    ,  0.    ,  1.0059],\n",
       "        [15.    ,  1.    ,  0.    ,  0.    ,  1.0059],\n",
       "        [16.    ,  1.    , -0.    ,  0.    ,  0.    ],\n",
       "        [17.    ,  1.    , -0.    ,  0.    ,  0.    ],\n",
       "        [18.    ,  1.    ,  0.    ,  0.    ,  0.    ]]),\n",
       " np.float64(9.999211496958099))"
      ]
     },
     "execution_count": 26,
     "metadata": {},
     "output_type": "execute_result"
    }
   ],
   "source": [
    "mol=mols[5]\n",
    "print(mol.reader.fname)\n",
    "caler=charge.Calculator(mol)\n",
    "vals=caler.piElectron('mulliken')\n",
    "vals,np.sum(vals[:,-1])"
   ]
  },
  {
   "cell_type": "code",
   "execution_count": 27,
   "metadata": {},
   "outputs": [
    {
     "name": "stdout",
     "output_type": "stream",
     "text": [
      "NO2.log\n"
     ]
    },
    {
     "data": {
      "text/plain": [
       "(array([[ 1.    , -1.    ,  0.    ,  0.    ,  1.0485],\n",
       "        [ 2.    , -1.    ,  0.    ,  0.    ,  1.4758],\n",
       "        [ 3.    , -1.    ,  0.    ,  0.    ,  1.4758]]),\n",
       " np.float64(4.000044161076342))"
      ]
     },
     "execution_count": 27,
     "metadata": {},
     "output_type": "execute_result"
    }
   ],
   "source": [
    "mol=mols[6]\n",
    "print(mol.reader.fname)\n",
    "caler=charge.Calculator(mol)\n",
    "vals=caler.piElectron('mulliken')\n",
    "vals,np.sum(vals[:,-1])"
   ]
  },
  {
   "cell_type": "code",
   "execution_count": 4,
   "metadata": {},
   "outputs": [
    {
     "name": "stdout",
     "output_type": "stream",
     "text": [
      "CH2CHCH2+.log\n"
     ]
    },
    {
     "data": {
      "text/plain": [
       "(array([[ 1.    , -0.    , -0.    ,  1.    ,  0.5268],\n",
       "        [ 2.    , -0.    , -0.    ,  1.    ,  0.    ],\n",
       "        [ 3.    , -0.    , -0.    ,  1.    ,  0.    ],\n",
       "        [ 4.    , -0.    , -0.    ,  1.    ,  0.9462],\n",
       "        [ 5.    , -0.    , -0.    ,  1.    ,  0.    ],\n",
       "        [ 6.    , -0.    , -0.    ,  1.    ,  0.527 ],\n",
       "        [ 7.    , -0.    , -0.    ,  1.    ,  0.    ],\n",
       "        [ 8.    , -0.    , -0.    ,  1.    ,  0.    ]]),\n",
       " np.float64(2.000016644523757))"
      ]
     },
     "execution_count": 4,
     "metadata": {},
     "output_type": "execute_result"
    }
   ],
   "source": [
    "mol=mols[7]\n",
    "print(mol.reader.fname)\n",
    "caler=charge.Calculator(mol)\n",
    "vals=caler.piElectron('mulliken')\n",
    "vals,np.sum(vals[:,-1])"
   ]
  },
  {
   "cell_type": "code",
   "execution_count": 6,
   "metadata": {},
   "outputs": [
    {
     "name": "stdout",
     "output_type": "stream",
     "text": [
      "CH2CHCHO.log\n"
     ]
    },
    {
     "data": {
      "text/plain": [
       "(array([[ 1.    , -0.    , -0.    ,  1.    ,  0.9301],\n",
       "        [ 2.    , -0.    , -0.    ,  1.    ,  0.    ],\n",
       "        [ 3.    , -0.    , -0.    ,  1.    ,  0.    ],\n",
       "        [ 4.    , -0.    , -0.    ,  1.    ,  0.9784],\n",
       "        [ 5.    , -0.    , -0.    ,  1.    ,  0.    ],\n",
       "        [ 6.    ,  0.    ,  0.    ,  1.    ,  0.8107],\n",
       "        [ 7.    ,  0.    ,  0.    ,  1.    ,  0.    ],\n",
       "        [ 8.    ,  0.    ,  0.    ,  1.    ,  1.2808]]),\n",
       " np.float64(4.000019120749458))"
      ]
     },
     "execution_count": 6,
     "metadata": {},
     "output_type": "execute_result"
    }
   ],
   "source": [
    "mol=mols[8]\n",
    "print(mol.reader.fname)\n",
    "caler=charge.Calculator(mol)\n",
    "vals=caler.piElectron('mulliken')\n",
    "vals,np.sum(vals[:,-1])"
   ]
  },
  {
   "cell_type": "code",
   "execution_count": 8,
   "metadata": {},
   "outputs": [
    {
     "name": "stdout",
     "output_type": "stream",
     "text": [
      "NNO.log\n"
     ]
    },
    {
     "data": {
      "text/plain": [
       "(array([[1.    , 0.    , 0.    , 1.    , 1.2607],\n",
       "        [2.    , 0.    , 0.    , 1.    , 1.0905],\n",
       "        [3.    , 0.    , 0.    , 1.    , 1.6488]]),\n",
       " np.float64(4.000005974256763))"
      ]
     },
     "execution_count": 8,
     "metadata": {},
     "output_type": "execute_result"
    }
   ],
   "source": [
    "mol=mols[9]\n",
    "print(mol.reader.fname)\n",
    "for i in range(3):\n",
    "    mol.atom(i+1)._props['normal']=np.array([0,0,1],dtype=float)\n",
    "caler=charge.Calculator(mol)\n",
    "\n",
    "vals=caler.piElectron('mulliken')\n",
    "vals,np.sum(vals[:,-1])"
   ]
  }
 ],
 "metadata": {
  "kernelspec": {
   "display_name": "pywfn",
   "language": "python",
   "name": "python3"
  },
  "language_info": {
   "codemirror_mode": {
    "name": "ipython",
    "version": 3
   },
   "file_extension": ".py",
   "mimetype": "text/x-python",
   "name": "python",
   "nbconvert_exporter": "python",
   "pygments_lexer": "ipython3",
   "version": "3.10.14"
  }
 },
 "nbformat": 4,
 "nbformat_minor": 2
}
