{
 "cells": [
  {
   "cell_type": "code",
   "execution_count": 29,
   "metadata": {},
   "outputs": [],
   "source": [
    "import re\n",
    "import numpy as np\n",
    "import matplotlib.pyplot as plt"
   ]
  },
  {
   "cell_type": "code",
   "execution_count": 2,
   "metadata": {},
   "outputs": [],
   "source": [
    "with open('mols/scans/dingerxi/6-311G.txt','r',encoding='utf-8') as f:\n",
    "    content=f.read()"
   ]
  },
  {
   "cell_type": "code",
   "execution_count": 59,
   "metadata": {},
   "outputs": [],
   "source": [
    "def get_order(content,a1,a2):\n",
    "    res=re.findall(f'{a1}-{a2},'+r'BO:(-?\\d.\\d+),BL:(-?\\d.\\d+)',content)[0]\n",
    "    return res"
   ]
  },
  {
   "cell_type": "code",
   "execution_count": 64,
   "metadata": {},
   "outputs": [],
   "source": [
    "def get_orders(contents,a1,a2):\n",
    "    orders=[]\n",
    "    bondls=[]\n",
    "    for content in contents:\n",
    "        order,bondl=get_order(content,a1,a2)\n",
    "        orders.append(order)\n",
    "        bondls.append(bondl)\n",
    "    orders=np.array(orders,dtype=float)\n",
    "    bondls=np.array(bondls,dtype=float)\n",
    "    return orders,bondls"
   ]
  },
  {
   "cell_type": "code",
   "execution_count": 75,
   "metadata": {},
   "outputs": [
    {
     "data": {
      "text/plain": [
       "Text(0.5, 1.0, '$C_4-C_6$ Bond Length')"
      ]
     },
     "execution_count": 75,
     "metadata": {},
     "output_type": "execute_result"
    },
    {
     "data": {
      "image/png": "[encoded data removed]",
      "text/plain": [
       "<Figure size 864x576 with 4 Axes>"
      ]
     },
     "metadata": {
      "needs_background": "light"
     },
     "output_type": "display_data"
    }
   ],
   "source": [
    "fig,ax=plt.subplots(2,2,figsize=(12,8))\n",
    "plt.subplots_adjust(left=None, bottom=None, right=None, top=None, wspace=None, hspace=0.3)\n",
    "orders,bondls=get_orders(contents,4,1)\n",
    "ax[0,0].plot(np.arange(len(orders)),orders,'.-r')\n",
    "ax[0,0].set_ylim(0,.99)\n",
    "ax[0,0].set_title('$C_4-C_1$ π Bond Order')\n",
    "ax[0,1].plot(np.arange(len(bondls)),bondls,'.-g')\n",
    "ax[0,1].set_ylim(1,1.99)\n",
    "ax[0,1].set_title('$C_4-C_1$ Bond Length')\n",
    "orders,bondls=get_orders(contents,4,6)\n",
    "ax[1,0].plot(np.arange(len(orders)),orders,'.-r')\n",
    "ax[1,0].set_ylim(0,.99)\n",
    "ax[1,0].set_title('$C_4-C_6$ π Bond Order')\n",
    "ax[1,1].plot(np.arange(len(bondls)),bondls,'.-g')\n",
    "ax[1,1].set_ylim(1,1.99)\n",
    "ax[1,1].set_title('$C_4-C_6$ Bond Length')\n",
    "# plt.savefig('dingerxi.png',dip=300,bbox_inches='tight')"
   ]
  },
  {
   "cell_type": "markdown",
   "metadata": {},
   "source": [
    "## 自由基与乙烯反应的势能"
   ]
  },
  {
   "cell_type": "code",
   "execution_count": 1,
   "metadata": {},
   "outputs": [
    {
     "data": {
      "text/plain": [
       "['D:\\\\BaiduSyncdisk\\\\Articles\\\\HFV',\n",
       " 'D:\\\\programs\\\\anaconda3\\\\python39.zip',\n",
       " 'D:\\\\programs\\\\anaconda3\\\\DLLs',\n",
       " 'D:\\\\programs\\\\anaconda3\\\\lib',\n",
       " 'D:\\\\programs\\\\anaconda3',\n",
       " '',\n",
       " 'D:\\\\programs\\\\anaconda3\\\\lib\\\\site-packages',\n",
       " 'D:\\\\programs\\\\anaconda3\\\\lib\\\\site-packages\\\\win32',\n",
       " 'D:\\\\programs\\\\anaconda3\\\\lib\\\\site-packages\\\\win32\\\\lib',\n",
       " 'D:\\\\programs\\\\anaconda3\\\\lib\\\\site-packages\\\\Pythonwin',\n",
       " 'D:\\\\code\\\\pywfn']"
      ]
     },
     "execution_count": 1,
     "metadata": {},
     "output_type": "execute_result"
    }
   ],
   "source": [
    "import sys\n",
    "sys.path.append('D:\\code\\pywfn')\n",
    "sys.path"
   ]
  },
  {
   "cell_type": "code",
   "execution_count": 2,
   "metadata": {},
   "outputs": [],
   "source": [
    "import pywfn\n",
    "from pywfn.readers import LogReader\n",
    "from pywfn.bondorder import piDM\n",
    "import numpy as np"
   ]
  },
  {
   "cell_type": "code",
   "execution_count": 3,
   "metadata": {},
   "outputs": [
    {
     "name": "stderr",
     "output_type": "stream",
     "text": [
      "重构密度矩阵: 100%|██████████████████████████████████████████████████████████████████| 33/33 [00:00<00:00, 5499.52it/s]\n",
      "重构密度矩阵: 100%|██████████████████████████████████████████████████████████████████| 33/33 [00:00<00:00, 5495.81it/s]\n",
      "重构密度矩阵: 100%|██████████████████████████████████████████████████████████████████| 33/33 [00:00<00:00, 4714.63it/s]\n",
      "重构密度矩阵: 100%|██████████████████████████████████████████████████████████████████| 41/41 [00:00<00:00, 6837.09it/s]\n",
      "重构密度矩阵: 100%|██████████████████████████████████████████████████████████████████| 41/41 [00:00<00:00, 5133.94it/s]\n",
      "重构密度矩阵: 100%|██████████████████████████████████████████████████████████████████| 41/41 [00:00<00:00, 5125.68it/s]\n",
      "重构密度矩阵: 100%|█████████████████████████████████████████████████████████████████| 49/49 [00:00<00:00, 12225.38it/s]\n",
      "重构密度矩阵: 100%|██████████████████████████████████████████████████████████████████| 49/49 [00:00<00:00, 5447.00it/s]\n",
      "重构密度矩阵: 100%|██████████████████████████████████████████████████████████████████| 49/49 [00:00<00:00, 8176.03it/s]\n",
      "重构密度矩阵: 100%|█████████████████████████████████████████████████████████████████| 57/57 [00:00<00:00, 11397.02it/s]\n",
      "重构密度矩阵: 100%|██████████████████████████████████████████████████████████████████| 57/57 [00:00<00:00, 5699.05it/s]\n",
      "重构密度矩阵: 100%|██████████████████████████████████████████████████████████████████| 57/57 [00:00<00:00, 8140.40it/s]\n"
     ]
    }
   ],
   "source": [
    "orders=[]\n",
    "bls=[]\n",
    "ERs=[]\n",
    "for i in range(4):\n",
    "    reader=LogReader(rf\"D:\\BaiduSyncdisk\\gFile\\reaction2\\CF{i}.log\")\n",
    "    mol=reader.mol\n",
    "    caler=piDM.Calculator(mol)\n",
    "    order1=caler.calculate(mol.atom(1),mol.atom(2))\n",
    "    order2=caler.calculate(mol.atom(1),mol.atom(5))\n",
    "    order3=caler.calculate(mol.atom(1),mol.atom(7))\n",
    "    orders.append([order1,order2,order3])\n",
    "    bl1=mol.bond(1,2).length\n",
    "    bl2=mol.bond(1,5).length\n",
    "    bl3=mol.bond(1,7).length\n",
    "    bls.append([bl1,bl2,bl3])\n",
    "    ERs.append(mol.E)"
   ]
  },
  {
   "cell_type": "code",
   "execution_count": 4,
   "metadata": {},
   "outputs": [
    {
     "data": {
      "text/plain": [
       "[[0.2971064396510175, 0.29712719252578945, 0.2971149575314283],\n",
       " [0.2776349104317625, 0.33232290602249265, 0.27763942204195885],\n",
       " [0.25974077214326474, 0.31433732989274976, 0.3143903706599987],\n",
       " [0.2994187051032419, 0.27622361531609146, 0.26909047685175236]]"
      ]
     },
     "execution_count": 4,
     "metadata": {},
     "output_type": "execute_result"
    }
   ],
   "source": [
    "orders"
   ]
  },
  {
   "cell_type": "code",
   "execution_count": 5,
   "metadata": {},
   "outputs": [
    {
     "data": {
      "text/plain": [
       "[[1.4976761838084358, 1.497662033455479, 1.4976698082087383],\n",
       " [1.4968808010052101, 1.4864050362014387, 1.496880654433078],\n",
       " [1.494361000533004, 1.488596027591435, 1.488587292909959],\n",
       " [1.4861584361009426, 1.491197410994936, 1.4932186090529411]]"
      ]
     },
     "execution_count": 5,
     "metadata": {},
     "output_type": "execute_result"
    }
   ],
   "source": [
    "bls"
   ]
  },
  {
   "cell_type": "code",
   "execution_count": 7,
   "metadata": {},
   "outputs": [
    {
     "data": {
      "text/plain": [
       "[-157.710538, -256.945084, -356.177109, -455.409665]"
      ]
     },
     "execution_count": 7,
     "metadata": {},
     "output_type": "execute_result"
    }
   ],
   "source": [
    "ERs"
   ]
  },
  {
   "cell_type": "code",
   "execution_count": 10,
   "metadata": {},
   "outputs": [
    {
     "data": {
      "text/plain": [
       "array([0.75809303, 0.76184438, 0.76097315, 0.80470882])"
      ]
     },
     "execution_count": 10,
     "metadata": {},
     "output_type": "execute_result"
    }
   ],
   "source": [
    "os=1.6494416218465484-np.array(orders).sum(axis=1)\n",
    "os"
   ]
  },
  {
   "cell_type": "code",
   "execution_count": 11,
   "metadata": {},
   "outputs": [
    {
     "data": {
      "text/plain": [
       "[-236.237738, -335.472642, -434.705524, -533.942737]"
      ]
     },
     "execution_count": 11,
     "metadata": {},
     "output_type": "execute_result"
    }
   ],
   "source": [
    "ETs=[]\n",
    "for i in range(4):\n",
    "    reader=LogReader(rf\"D:\\BaiduSyncdisk\\gFile\\reaction2\\CF{i}_TS.log\")\n",
    "    mol=reader.mol\n",
    "    ETs.append(mol.E)\n",
    "ETs"
   ]
  },
  {
   "cell_type": "code",
   "execution_count": 12,
   "metadata": {},
   "outputs": [],
   "source": [
    "E0=LogReader(r'D:\\BaiduSyncdisk\\gFile\\reaction2\\CH2=CH2.log').mol.E\n",
    "es=np.array(ETs)-np.array(ERs)-E0"
   ]
  },
  {
   "cell_type": "code",
   "execution_count": 13,
   "metadata": {},
   "outputs": [
    {
     "data": {
      "text/plain": [
       "<matplotlib.collections.PathCollection at 0x1c9b7e08fd0>"
      ]
     },
     "execution_count": 13,
     "metadata": {},
     "output_type": "execute_result"
    },
    {
     "data": {
      "image/png": "[encoded data removed]",
      "text/plain": [
       "<Figure size 432x288 with 1 Axes>"
      ]
     },
     "metadata": {
      "needs_background": "light"
     },
     "output_type": "display_data"
    }
   ],
   "source": [
    "import matplotlib.pyplot as plt\n",
    "plt.scatter(os,es)"
   ]
  },
  {
   "cell_type": "code",
   "execution_count": 14,
   "metadata": {},
   "outputs": [
    {
     "data": {
      "text/plain": [
       "array([0.029908, 0.02955 , 0.028693, 0.024036])"
      ]
     },
     "execution_count": 14,
     "metadata": {},
     "output_type": "execute_result"
    }
   ],
   "source": [
    "es"
   ]
  },
  {
   "cell_type": "markdown",
   "metadata": {},
   "source": [
    "## 尝试在QM9数据集中找到相同Mulliken 电荷的C原子"
   ]
  },
  {
   "cell_type": "code",
   "execution_count": 44,
   "metadata": {},
   "outputs": [],
   "source": [
    "root='D:\\数据库\\QM9\\dsgdb9nsd.xyz'\n",
    "from pathlib import Path\n",
    "import re\n",
    "from tqdm import tqdm\n",
    "import numpy as np\n",
    "import matplotlib.pyplot as plt\n",
    "import sys"
   ]
  },
  {
   "cell_type": "code",
   "execution_count": 11,
   "metadata": {},
   "outputs": [],
   "source": [
    "root=Path(root)"
   ]
  },
  {
   "cell_type": "code",
   "execution_count": 52,
   "metadata": {},
   "outputs": [],
   "source": [
    "def get_anums(cords):\n",
    "    \"\"\"判断原子连接原子个数\"\"\"\n",
    "    c1=np.repeat(cords[:,:,None],repeats=len(cords),axis=2)\n",
    "    c2=c1.transpose(2,1,0)\n",
    "    dis=np.linalg.norm(c2-c1,axis=1)\n",
    "    nums=((dis>0)*(dis<1.7)).sum(axis=0) #每个原子相邻原子的个数\n",
    "    return nums\n",
    "def get_data(path:Path):\n",
    "    text=path.read_text()\n",
    "    lines=text.splitlines(keepends=False)\n",
    "    na=int(lines[0])\n",
    "    res=[]\n",
    "    for i in range(2,na+2):\n",
    "        line=lines[i]\n",
    "        res.append(line.replace('*^','e').split('\\t'))\n",
    "    res=np.array(res)\n",
    "    cords=res[:,1:4].astype(np.float32) #原子坐标矩阵 n,3\n",
    "    atoms=res[:,0] #原子符号 n\n",
    "    elect=res[:,4].astype(np.float32) # 原子电荷 n\n",
    "    anums=get_anums(cords) # 每个原子相邻原子个数\n",
    "    if len(res)!=na:\n",
    "        print(path)\n",
    "        for each in res:\n",
    "            print(each)\n",
    "        raise f'匹配不完全'\n",
    "    return atoms,elect,anums\n",
    "def get_energy(molID:str):\n",
    "    \"\"\"获取分子的能量\"\"\"\n",
    "    text=Path(f'D:\\数据库\\QM9\\dsgdb9nsd.xyz\\dsgdb9nsd_{molID}.xyz').read_text()\n",
    "    lines=text.splitlines(keepends=False)\n",
    "    data=lines[1].split('\\t')\n",
    "    return data[13]"
   ]
  },
  {
   "cell_type": "markdown",
   "metadata": {},
   "source": [
    "### 获取所有sp2 C 与SP3 C 的电荷，并保存到文件中，以减少内存的占用"
   ]
  },
  {
   "cell_type": "code",
   "execution_count": 17,
   "metadata": {},
   "outputs": [
    {
     "name": "stdout",
     "output_type": "stream",
     "text": [
      "133885/133885"
     ]
    }
   ],
   "source": [
    "for i,path in enumerate(root.iterdir()):\n",
    "    path_= Path(f'QM9/{(i+1):0>6}.txt')\n",
    "    \n",
    "    atoms,elect,anums=get_data(path) # 元素符号，电荷数，相邻原子数\n",
    "    if 'F' in atoms:continue # 排除带原子的分子\n",
    "    sp2_idxs=np.argwhere((atoms=='C')*(anums==3)).flatten() # sp2 c，分子中满足条件的原子索引\n",
    "    sp3_idxs=np.argwhere((atoms=='C')*(anums==4)).flatten() # sp3 c\n",
    "    if len(sp2_idxs)==0 and len(sp3_idxs)==0:continue # 如果既没有sp2也没有sp3 C，就排除该分子\n",
    "    res_str=''\n",
    "    sp2_elec=elect[sp2_idxs]\n",
    "    sp3_elec=elect[sp3_idxs]\n",
    "    \n",
    "    all_idxs=np.unique(np.concatenate([sp2_idxs,sp3_idxs],axis=0)) # 拼接并去重\n",
    "    all_mols=np.ones_like(all_idxs)*(i+1) #分子索引\n",
    "    \n",
    "    atomid=all_idxs\n",
    "    elects=elect[all_idxs]\n",
    "    arnums=anums[all_idxs]\n",
    "    \n",
    "    atomic,atonum=np.unique(atoms,return_counts=True) #元素符号及数量统计\n",
    "    n_C=np.sum(atoms=='C')\n",
    "    n_H=np.sum(atoms=='H')\n",
    "    n_O=np.sum(atoms=='O')\n",
    "    n_N=np.sum(atoms=='N')\n",
    "    expres=f'C{n_C}H{n_H}O{n_O}N{n_N}'\n",
    "    \n",
    "    res_str+=f'{expres}\\n{atomid}\\n{elects}\\n{arnums}\\n{sp2_idxs}\\n{sp2_elec}\\n{sp3_idxs}\\n{sp3_elec}'\n",
    "    path_.write_text(res_str) #用以查询每个分子的sp2和sp3的原子及电荷\n",
    "    \n",
    "    pnum=int(i/133885*100)\n",
    "    print(f'\\r{i+1}/133885  {i/133885}',end=\"\")"
   ]
  },
  {
   "cell_type": "markdown",
   "metadata": {},
   "source": [
    "### 重新读取数据\n",
    "- 同分异构体及数量\n",
    "- 分子id，sp2原子id以及其电荷"
   ]
  },
  {
   "cell_type": "code",
   "execution_count": 45,
   "metadata": {},
   "outputs": [
    {
     "name": "stderr",
     "output_type": "stream",
     "text": [
      "131707it [10:28, 209.45it/s]\n"
     ]
    }
   ],
   "source": [
    "molids=''\n",
    "atomid=''\n",
    "elects=''\n",
    "expers={}\n",
    "for i,path in tqdm(enumerate(Path('QM9').iterdir())):\n",
    "    if i==0:continue\n",
    "    lines=path.read_text().splitlines(keepends=False)\n",
    "    exper=lines[0]\n",
    "    sp2_idxs=lines[4][1:-1]\n",
    "    sp2_elec=lines[5][1:-1]\n",
    "    if len(sp2_idxs)==0:continue\n",
    "    if exper not in expers.keys():expers[exper]=[]\n",
    "    expers[exper].append(path.name)\n",
    "    atomid+=f'{sp2_idxs} '\n",
    "    elects+=f'{sp2_elec} '\n",
    "    num=len(sp2_idxs.split(' '))\n",
    "    molids+=f'{path.stem} '*num\n",
    "#     if i>200:break"
   ]
  },
  {
   "cell_type": "code",
   "execution_count": 46,
   "metadata": {},
   "outputs": [],
   "source": [
    "molids=np.fromstring(molids,sep=' ',dtype=int)\n",
    "atomid=np.fromstring(atomid,sep=' ',dtype=int)\n",
    "elects=np.fromstring(elects,sep=' ',dtype=float)"
   ]
  },
  {
   "cell_type": "code",
   "execution_count": 48,
   "metadata": {},
   "outputs": [
    {
     "data": {
      "text/plain": [
       "394"
      ]
     },
     "execution_count": 48,
     "metadata": {},
     "output_type": "execute_result"
    }
   ],
   "source": [
    "len(expers) #同分异构体的数量"
   ]
  },
  {
   "cell_type": "code",
   "execution_count": 65,
   "metadata": {
    "scrolled": true
   },
   "outputs": [
    {
     "name": "stdout",
     "output_type": "stream",
     "text": [
      "10 C3H7O1N1 7 0.07316500000001724\n",
      "14 C3H3O1N1 5 0.03511299999999551\n",
      "15 C2H3O0N3 5 0.025517000000007783\n",
      "20 C3H6O2N0 6 0.04801799999995637\n",
      "23 C3H5O1N1 6 0.0413780000000088\n",
      "29 C3H7O2N1 13 0.09580099999999447\n",
      "30 C4H9O1N1 13 0.0747000000000071\n",
      "32 C3H6O1N2 12 0.12760400000001937\n",
      "33 C3H5O2N1 18 0.1306170000000293\n",
      "35 C3H3O2N1 9 0.05648500000000922\n",
      "38 C5H6O1N0 14 0.0947840000000042\n",
      "39 C4H6O0N2 8 0.02436699999998382\n",
      "40 C3H5O0N3 16 0.035043999999970765\n",
      "45 C5H10O1N0 7 0.014726999999993495\n",
      "46 C4H8O2N0 16 0.05131299999999328\n",
      "51 C5H8O1N0 13 0.04558500000001686\n",
      "57 C4H4O2N0 7 0.03160600000001068\n",
      "58 C3H4O3N0 7 0.05621800000000121\n",
      "63 C2H4O0N4 8 0.045341000000007625\n",
      "64 C2H3O1N3 12 0.08688099999994847\n",
      "80 C5H3O1N1 17 0.16167500000000246\n",
      "82 C6H9O0N1 18 0.15225700000002007\n",
      "89 C4H4O3N0 17 0.1300200000000018\n",
      "90 C3H3O3N1 11 0.04934000000002925\n",
      "93 C3H4O0N4 15 0.11689900000004627\n",
      "98 C3H2O2N2 15 0.11924899999996796\n",
      "99 C7H8O0N0 9 0.1794079999999667\n",
      "100 C6H7O0N1 9 0.15675200000003997\n",
      "101 C5H6O0N2 11 0.08431699999999864\n",
      "102 C4H5O0N3 16 0.10804799999999659\n",
      "103 C6H6O1N0 15 0.1540249999999901\n",
      "105 C6H4O1N0 9 0.07042100000001028\n",
      "106 C5H4O0N2 8 0.06901799999997138\n",
      "107 C4H3O0N3 10 0.08849200000003066\n",
      "108 C4H2O1N2 14 0.11709100000001627\n",
      "109 C6H12O1N0 14 0.014962000000025455\n",
      "111 C3H7O1N3 8 0.023717000000033295\n",
      "114 C4H10O1N2 5 0.02032200000002149\n",
      "118 C3H5O3N1 8 0.04223399999995081\n",
      "121 C7H12O0N0 16 0.02388899999999694\n",
      "122 C7H10O0N0 19 0.05074500000000626\n",
      "125 C3H1O1N3 6 0.09567100000003848\n",
      "126 C2H5O0N5 9 0.06856499999997823\n",
      "127 C2H4O1N4 18 0.11015199999997094\n",
      "128 C2H3O2N3 13 0.12425000000001774\n",
      "130 C2H3O0N5 5 0.050852000000020325\n",
      "131 C2H2O1N4 8 0.15537499999999227\n",
      "155 C4H10O2N2 12 0.16297999999994772\n",
      "160 C3H7O2N3 13 0.12266299999998864\n",
      "202 C6H4O0N2 8 0.06263899999999012\n",
      "203 C5H3O0N3 9 0.09543800000000147\n",
      "204 C4H2O0N4 6 0.14613100000002532\n",
      "209 C5H12O1N2 13 0.03302199999995992\n",
      "210 C8H18O0N0 18 0.008407000000033804\n",
      "215 C3H6O3N2 7 0.0845740000000319\n",
      "222 C4H8O4N0 7 0.02876800000001367\n",
      "233 C3H7O0N5 19 0.06666699999999537\n",
      "234 C2H4O0N6 10 0.09624999999999773\n",
      "238 C2H2O0N6 5 0.016948000000013508\n",
      "240 C2H1O3N3 11 0.2504500000000007\n",
      "241 C3H1O2N3 9 0.10011699999995471\n",
      "278 C3H6O2N4 17 0.16147699999999077\n",
      "287 C8H5O0N1 6 0.013117000000022472\n",
      "288 C8H4O1N0 20 0.10141299999997955\n",
      "289 C7H4O0N2 20 0.07536099999998669\n",
      "292 C5H2O0N4 9 0.13713300000000572\n",
      "293 C5H1O1N3 19 0.16277999999999793\n",
      "334 C4H2O5N0 5 0.07101199999999608\n",
      "356 C3H7O1N5 10 0.12027699999998731\n",
      "357 C3H5O3N3 8 0.1889630000000011\n",
      "367 C4H9O4N1 9 0.016971000000012282\n",
      "368 C4H10O3N2 5 0.010821999999961918\n",
      "375 C2H3O0N7 6 0.09561400000001186\n",
      "377 C2H4O1N6 11 0.08192200000002003\n",
      "378 C2H3O2N5 12 0.14132699999998977\n",
      "380 C4H0O1N4 5 0.08995499999997492\n",
      "382 C2H2O1N6 9 0.07071100000001707\n",
      "383 C3H1O1N5 9 0.15679000000000087\n",
      "384 C2H1O2N5 7 0.1285649999999805\n",
      "385 C3H1O3N3 12 0.15130199999998695\n",
      "386 C2H2O3N4 8 0.14269100000001345\n"
     ]
    }
   ],
   "source": [
    "biass=[]\n",
    "for i,(key,value) in enumerate(expers.items()):\n",
    "    if len(value)<5:continue\n",
    "    if len(value)>20:continue\n",
    "    molIDs=[each[:6] for each in value]\n",
    "    engs=np.array([get_energy(molID) for molID in molIDs],dtype=float)\n",
    "    bias=np.sum((engs-engs.mean())**2)/len(engs)\n",
    "    bias=engs.max()-engs.min()\n",
    "    biass.append(bias)\n",
    "    print(i,key,len(engs),bias)"
   ]
  },
  {
   "cell_type": "code",
   "execution_count": 67,
   "metadata": {},
   "outputs": [
    {
     "data": {
      "text/plain": [
       "(0.2504500000000007, 59)"
      ]
     },
     "execution_count": 67,
     "metadata": {},
     "output_type": "execute_result"
    }
   ],
   "source": [
    "max(biass),biass.index(max(biass))"
   ]
  },
  {
   "cell_type": "code",
   "execution_count": 68,
   "metadata": {},
   "outputs": [
    {
     "data": {
      "text/plain": [
       "['021429.txt',\n",
       " '021441.txt',\n",
       " '021445.txt',\n",
       " '021820.txt',\n",
       " '021849.txt',\n",
       " '021875.txt',\n",
       " '021977.txt',\n",
       " '021980.txt',\n",
       " '021981.txt',\n",
       " '021986.txt',\n",
       " '021987.txt']"
      ]
     },
     "execution_count": 68,
     "metadata": {},
     "output_type": "execute_result"
    }
   ],
   "source": [
    "expers['C2H1O3N3']"
   ]
  },
  {
   "cell_type": "code",
   "execution_count": 70,
   "metadata": {
    "scrolled": true
   },
   "outputs": [
    {
     "data": {
      "text/plain": [
       "['-466.616318',\n",
       " '-466.607625',\n",
       " '-466.561735',\n",
       " '-466.633961',\n",
       " '-466.595344',\n",
       " '-466.755368',\n",
       " '-466.521026',\n",
       " '-466.526753',\n",
       " '-466.539168',\n",
       " '-466.542058',\n",
       " '-466.504918']"
      ]
     },
     "execution_count": 70,
     "metadata": {},
     "output_type": "execute_result"
    }
   ],
   "source": [
    "engs=[get_energy(exper[:6]) for exper in expers['C2H1O3N3']]\n",
    "engs"
   ]
  },
  {
   "cell_type": "code",
   "execution_count": 73,
   "metadata": {},
   "outputs": [
    {
     "data": {
      "text/plain": [
       "<matplotlib.collections.PathCollection at 0x1d8e65c1160>"
      ]
     },
     "execution_count": 73,
     "metadata": {},
     "output_type": "execute_result"
    },
    {
     "data": {
      "image/png": "[encoded data removed]",
      "text/plain": [
       "<Figure size 640x480 with 1 Axes>"
      ]
     },
     "metadata": {},
     "output_type": "display_data"
    }
   ],
   "source": [
    "plt.scatter(list(np.arange(len(engs))),engs)"
   ]
  },
  {
   "cell_type": "markdown",
   "metadata": {},
   "source": [
    "### 查看分子的原子数量以及sp2,sp3分布"
   ]
  },
  {
   "cell_type": "code",
   "execution_count": 97,
   "metadata": {},
   "outputs": [
    {
     "data": {
      "text/plain": [
       "[<matplotlib.lines.Line2D at 0x18e3086d220>]"
      ]
     },
     "execution_count": 97,
     "metadata": {},
     "output_type": "execute_result"
    },
    {
     "data": {
      "image/png": "[encoded data removed]",
      "text/plain": [
       "<Figure size 640x480 with 1 Axes>"
      ]
     },
     "metadata": {},
     "output_type": "display_data"
    }
   ],
   "source": [
    "xs,ys=np.unique(np.array(atomNums),return_counts=True)\n",
    "plt.plot(xs,ys)\n",
    "xs,ys=np.unique(np.array(sp2_anum),return_counts=True)\n",
    "plt.plot(xs,ys)\n",
    "xs,ys=np.unique(np.array(sp3_anum),return_counts=True)\n",
    "plt.plot(xs,ys)"
   ]
  },
  {
   "cell_type": "markdown",
   "metadata": {},
   "source": [
    "### 查看SP2和SP3电荷分布"
   ]
  },
  {
   "cell_type": "code",
   "execution_count": 81,
   "metadata": {},
   "outputs": [
    {
     "data": {
      "text/plain": [
       "(1138, 1143)"
      ]
     },
     "execution_count": 81,
     "metadata": {},
     "output_type": "execute_result"
    },
    {
     "data": {
      "image/png": "[encoded data removed]",
      "text/plain": [
       "<Figure size 640x480 with 1 Axes>"
      ]
     },
     "metadata": {},
     "output_type": "display_data"
    }
   ],
   "source": [
    "xs2,ys2=np.unique(sp2_elec.round(3),return_counts=True)\n",
    "plt.plot(xs2,ys2)\n",
    "xs3,ys3=np.unique(sp3_elec.round(3),return_counts=True)\n",
    "plt.plot(xs3,ys3)\n",
    "len(xs2),len(xs3)"
   ]
  },
  {
   "cell_type": "markdown",
   "metadata": {},
   "source": [
    "### 找到相同电荷对应的分子"
   ]
  },
  {
   "cell_type": "code",
   "execution_count": 99,
   "metadata": {},
   "outputs": [
    {
     "data": {
      "text/plain": [
       "(1138, 1143, -0.581, 0.613, -0.597, 0.609)"
      ]
     },
     "execution_count": 99,
     "metadata": {},
     "output_type": "execute_result"
    }
   ],
   "source": [
    "sp2_elec_round=sp2_elec.round(3) #保留后四位小数\n",
    "sp2_elec_unique=np.unique(sp2_elec_round) #去重\n",
    "\n",
    "sp3_elec_round=sp3_elec.round(3) #保留后四位小数\n",
    "sp3_elec_unique=np.unique(sp3_elec_round) #去重\n",
    "\n",
    "len(sp2_elec_unique),len(sp3_elec_unique),sp2_elec_unique.min(),sp2_elec_unique.max(),sp3_elec_unique.min(),sp3_elec_unique.max()"
   ]
  },
  {
   "cell_type": "code",
   "execution_count": 106,
   "metadata": {},
   "outputs": [
    {
     "data": {
      "text/plain": [
       "(array([3, 4, 6], dtype=int64),\n",
       " array([[ 0.27351299],\n",
       "        [-0.149039  ],\n",
       "        [ 0.46784201]]))"
      ]
     },
     "execution_count": 106,
     "metadata": {},
     "output_type": "execute_result"
    }
   ],
   "source": [
    "sp2_aidx[26321],sp2_elec[np.argwhere(sp2_mols==26322)]"
   ]
  },
  {
   "cell_type": "markdown",
   "metadata": {},
   "source": [
    "## 计算丁二烯扫描pi电子变化"
   ]
  }
 ],
 "metadata": {
  "kernelspec": {
   "display_name": "Python 3 (ipykernel)",
   "language": "python",
   "name": "python3"
  },
  "language_info": {
   "codemirror_mode": {
    "name": "ipython",
    "version": 3
   },
   "file_extension": ".py",
   "mimetype": "text/x-python",
   "name": "python",
   "nbconvert_exporter": "python",
   "pygments_lexer": "ipython3",
   "version": "3.9.18"
  },
  "vscode": {
   "interpreter": {
    "hash": "cdadd82b5d65895c4688831ab8af0b77b2a411798f1269aaac8aed6e20ffd09f"
   }
  }
 },
 "nbformat": 4,
 "nbformat_minor": 4
}
