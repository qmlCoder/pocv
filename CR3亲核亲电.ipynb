{
 "cells": [
  {
   "cell_type": "code",
   "execution_count": 1,
   "metadata": {},
   "outputs": [],
   "source": [
    "import numpy as np\n",
    "import pyvista as pv\n",
    "from pyvista.plotting.plotter import Plotter\n",
    "import matplotlib.pyplot as plt\n",
    "import matplotlib as mpl\n",
    "import sys\n",
    "sys.path.append(rf\"D:\\code\\pywfn\")\n",
    "from pywfn.base import Mol\n",
    "from pywfn.reader import LogReader\n",
    "from pywfn.atomprop import activity\n",
    "from pywfn.bondprop import piDM,bondOrder\n",
    "from pywfn.maths import points_rotate\n",
    "from pywfn.data.elements import elements\n",
    "import matplotlib.pyplot as plt\n",
    "import matplotlib as mpl\n",
    "from pathlib import Path\n",
    "from pywfn.utils import printer\n",
    "printer.ifShell=False"
   ]
  },
  {
   "cell_type": "code",
   "execution_count": 2,
   "metadata": {},
   "outputs": [],
   "source": [
    "root=rf\"D:\\BaiduSyncdisk\\Articles\\HFV\\gfile\\CR3自由基\\wfn\"\n",
    "names=['Ccl3','CF3','CH3','CMe3']\n",
    "charges=['-','0','+']\n",
    "valence=np.zeros(shape=(len(names),3))\n",
    "for n,name in enumerate(names):\n",
    "    for c,charge in enumerate(charges):\n",
    "        path=f'{root}/{name}_wfn{charge}.log'\n",
    "        mol=Mol(LogReader(path))\n",
    "        \n",
    "        caler=activity.Calculator()\n",
    "        caler.mols=[mol]\n",
    "        result=caler.freeValence(1)[0,-1]\n",
    "        valence[n,c]=result"
   ]
  },
  {
   "cell_type": "code",
   "execution_count": 3,
   "metadata": {},
   "outputs": [],
   "source": [
    "def show_result(datas,title:str='fig'):\n",
    "    idxs=np.arange(len(datas))\n",
    "    ve=datas[:,0]\n",
    "    v0=datas[:,1]\n",
    "    vn=datas[:,2]\n",
    "    # vals=np.abs(np.vstack([ve-v0,vn-v0])).max(axis=0)\n",
    "    idxs=np.argsort(v0)\n",
    "    datas=datas[idxs,:]\n",
    "    cs=['#339af0','#868e96','#fa5252']\n",
    "    labels=['-1','0','+1']\n",
    "    xs=[]\n",
    "    total=len(names)+1\n",
    "    for i in range(len(names)):\n",
    "        for j in range(3):\n",
    "            x=i*total+j\n",
    "            h=datas[i,j]\n",
    "            # print(i,j,x)\n",
    "            if j==1:\n",
    "                xs.append(x)\n",
    "            if i==0:\n",
    "                plt.bar(x,h,color=cs[j],label=labels[j])\n",
    "            else:\n",
    "                plt.bar(x,h,color=cs[j])\n",
    "\n",
    "    plt.xticks(xs,[names[i] for i in idxs])\n",
    "    plt.ylabel('Free Valence')\n",
    "    plt.legend()\n",
    "    # plt.ylim(0,2.8)\n",
    "    plt.savefig(fr'图像/{title}.png',dpi=300,bbox_inches='tight')\n",
    "    plt.show()"
   ]
  },
  {
   "cell_type": "code",
   "execution_count": 4,
   "metadata": {},
   "outputs": [
    {
     "data": {
      "image/png": "[encoded data removed]",
      "text/plain": [
       "<Figure size 640x480 with 1 Axes>"
      ]
     },
     "metadata": {},
     "output_type": "display_data"
    }
   ],
   "source": [
    "show_result(valence,title='CR3自由基')"
   ]
  },
  {
   "cell_type": "code",
   "execution_count": 31,
   "metadata": {},
   "outputs": [
    {
     "data": {
      "text/plain": [
       "(array([-0.1707, -0.2954,  0.1148,  0.3842,  0.1647]),\n",
       " array([ 0.7467,  0.7367, -0.1682,  0.1252,  0.1488]))"
      ]
     },
     "execution_count": 31,
     "metadata": {},
     "output_type": "execute_result"
    }
   ],
   "source": [
    "valence[:,1]-valence[:,0],valence[:,1]-valence[:,2]"
   ]
  },
  {
   "cell_type": "code",
   "execution_count": 17,
   "metadata": {},
   "outputs": [],
   "source": [
    "from pywfn.atomprop import charge\n",
    "datas=np.zeros(shape=(5,3))\n",
    "for n,name in enumerate(names):\n",
    "    for c,chrg in enumerate(charges):\n",
    "        path=f'{root}/{name}_wfn{chrg}.log'\n",
    "        mol=Mol(LogReader(path))\n",
    "        \n",
    "        caler=charge.Calculator(mol)\n",
    "        result=caler.hirshfeld()[0]\n",
    "        datas[n,c]=result"
   ]
  },
  {
   "cell_type": "code",
   "execution_count": 19,
   "metadata": {},
   "outputs": [
    {
     "data": {
      "text/plain": [
       "(array([0.277 , 0.449 , 0.5619, 0.2659, 0.1195]),\n",
       " array([0.1893, 0.3679, 0.5786, 0.2648, 0.1047]))"
      ]
     },
     "execution_count": 19,
     "metadata": {},
     "output_type": "execute_result"
    }
   ],
   "source": [
    "datas[:,1]-datas[:,0],datas[:,2]-datas[:,1]"
   ]
  },
  {
   "cell_type": "code",
   "execution_count": null,
   "metadata": {},
   "outputs": [],
   "source": [
    "cs=['#339af0','#868e96','#fa5252']\n",
    "labels=['-1','0','+1']\n",
    "xs=[]\n",
    "for i in range(5):\n",
    "    for j in range(3):\n",
    "        x=i*5+j\n",
    "        h=datas[i,j]\n",
    "        if j==1:\n",
    "            xs.append(x)\n",
    "        if i==0:\n",
    "            plt.bar(x,h,color=cs[j],label=labels[j])\n",
    "        else:\n",
    "            plt.bar(x,h,color=cs[j])\n",
    "plt.xticks(xs,names)\n",
    "plt.ylabel('Free Valence')\n",
    "plt.legend()\n",
    "# plt.ylim(0,2.8)\n",
    "plt.show()"
   ]
  }
 ],
 "metadata": {
  "kernelspec": {
   "display_name": "py10",
   "language": "python",
   "name": "python3"
  },
  "language_info": {
   "codemirror_mode": {
    "name": "ipython",
    "version": 3
   },
   "file_extension": ".py",
   "mimetype": "text/x-python",
   "name": "python",
   "nbconvert_exporter": "python",
   "pygments_lexer": "ipython3",
   "version": "3.10.13"
  }
 },
 "nbformat": 4,
 "nbformat_minor": 2
}
