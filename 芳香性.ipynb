{
 "cells": [
  {
   "cell_type": "code",
   "execution_count": 2,
   "metadata": {},
   "outputs": [],
   "source": [
    "import sys\n",
    "sys.path.append('D:\\code\\pywfn')\n",
    "from pywfn.base import Mol\n",
    "from pywfn.reader import LogReader\n",
    "from pywfn.tools import extractSI\n",
    "from pywfn.molprop import aromatic\n",
    "from pywfn.bondprop import order\n",
    "import numpy as np"
   ]
  },
  {
   "cell_type": "code",
   "execution_count": 3,
   "metadata": {},
   "outputs": [],
   "source": [
    "plans=['C6H6','ph2','line6','rNH2','rNF2','C4H4']\n",
    "noplans=['ph-ph','phR-phR','since']"
   ]
  },
  {
   "cell_type": "code",
   "execution_count": 7,
   "metadata": {},
   "outputs": [],
   "source": [
    "# 生成SI\n",
    "root=\"D:\\BaiduSyncdisk\\Articles\\HFV\\gfile\\芳香性\"\n",
    "paths=[f'{root}\\{m}.log' for m in noplans]\n",
    "tool=extractSI.Tool(paths)\n",
    "tool.save('SI.txt')"
   ]
  },
  {
   "cell_type": "code",
   "execution_count": 4,
   "metadata": {},
   "outputs": [],
   "source": [
    "path=\"D:\\BaiduSyncdisk\\Articles\\HFV\\gfile\\芳香性\\since.log\"\n",
    "reader=LogReader(path)\n",
    "mol=Mol(reader)"
   ]
  },
  {
   "cell_type": "code",
   "execution_count": 5,
   "metadata": {},
   "outputs": [
    {
     "data": {
      "text/plain": [
       "True"
      ]
     },
     "execution_count": 5,
     "metadata": {},
     "output_type": "execute_result"
    }
   ],
   "source": [
    "ring0=[\n",
    "    (1,21),(1,37),(2,21),(2,29),(29,37)\n",
    "]\n",
    "(1,21) in ring0"
   ]
  },
  {
   "cell_type": "code",
   "execution_count": 10,
   "metadata": {},
   "outputs": [
    {
     "name": "stdout",
     "output_type": "stream",
     "text": [
      " 26, 47,   0.7\n",
      " 26, 49,   0.6\n",
      " 27, 30,   0.6\n",
      " 27, 42,   0.7\n",
      " 30, 47,   0.6\n",
      " 42, 49,   0.6\n"
     ]
    },
    {
     "data": {
      "text/plain": [
       "np.float64(0.023145384206726898)"
      ]
     },
     "execution_count": 10,
     "metadata": {},
     "output_type": "execute_result"
    }
   ],
   "source": [
    "ring0=[\n",
    "    (1,21),(1,37),(2,21),(2,29),(29,37)\n",
    "]\n",
    "ring1=[\n",
    "    (27,30),(30,47),(26,47),(26,49),(42,49),(27,42)\n",
    "]\n",
    "normal=np.array([-0.16,-0.38,-0.91])\n",
    "normal/=np.linalg.norm(normal)\n",
    "mol.atom(55)._props['normal']=normal\n",
    "mol.atom(56)._props['normal']=normal\n",
    "orderCaler=order.Calculator(mol)\n",
    "orders=orderCaler.pi_pocv()\n",
    "piOrders=[]\n",
    "for a1,a2,val in orders:\n",
    "    if val==0:continue\n",
    "    if (a1,a2) not in ring1:continue\n",
    "    print(f'{int(a1):>3},{int(a2):>3},{val:6.1f}')\n",
    "    piOrders.append(val)\n",
    "np.std(piOrders)"
   ]
  },
  {
   "cell_type": "code",
   "execution_count": 11,
   "metadata": {},
   "outputs": [
    {
     "data": {
      "text/plain": [
       "np.float64(0.02835820050876459)"
      ]
     },
     "execution_count": 11,
     "metadata": {},
     "output_type": "execute_result"
    }
   ],
   "source": [
    "np.std(piOrders)"
   ]
  },
  {
   "cell_type": "code",
   "execution_count": 33,
   "metadata": {},
   "outputs": [
    {
     "data": {
      "text/plain": [
       "array([ 51.,   0., 204.])"
      ]
     },
     "execution_count": 33,
     "metadata": {},
     "output_type": "execute_result"
    }
   ],
   "source": [
    "bv=np.array([0,0,255])\n",
    "rv=np.array([255,0,0])\n",
    "bv+0.2*(rv-bv)"
   ]
  }
 ],
 "metadata": {
  "kernelspec": {
   "display_name": "pywfn",
   "language": "python",
   "name": "python3"
  },
  "language_info": {
   "codemirror_mode": {
    "name": "ipython",
    "version": 3
   },
   "file_extension": ".py",
   "mimetype": "text/x-python",
   "name": "python",
   "nbconvert_exporter": "python",
   "pygments_lexer": "ipython3",
   "version": "3.10.14"
  }
 },
 "nbformat": 4,
 "nbformat_minor": 2
}
