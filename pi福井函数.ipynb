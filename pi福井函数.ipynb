{
 "cells": [
  {
   "cell_type": "code",
   "execution_count": 2,
   "metadata": {},
   "outputs": [
    {
     "name": "stdout",
     "output_type": "stream",
     "text": [
      "动态链接库目录 d:\\code\\pywfn\\pywfn\\libs\n",
      "当前系统:windows\n"
     ]
    }
   ],
   "source": [
    "import sys\n",
    "sys.path.append('d:/code/pywfn')\n",
    "from pywfn.base import Mol\n",
    "from pywfn.reader import LogReader\n",
    "from pywfn.atomprop import charge\n",
    "import numpy as np"
   ]
  },
  {
   "cell_type": "code",
   "execution_count": 3,
   "metadata": {},
   "outputs": [],
   "source": [
    "root='D:/gfile/HFV/lu活性'\n",
    "# root='D:/gfile/pywfn/pi电子'\n",
    "names=['A3','A4','A6']\n",
    "paths_0=[f'{root}/{name}.log' for name in names]\n",
    "paths_n=[f'{root}/{name}_n.log' for name in names]\n",
    "paths_p=[f'{root}/{name}_p.log' for name in names]\n",
    "mols0=[Mol(LogReader(path)) for path in paths_0]\n",
    "molsn=[Mol(LogReader(path)) for path in paths_n]\n",
    "molsp=[Mol(LogReader(path)) for path in paths_p]"
   ]
  },
  {
   "cell_type": "code",
   "execution_count": 9,
   "metadata": {},
   "outputs": [
    {
     "name": "stdout",
     "output_type": "stream",
     "text": [
      "[[ 1.      0.      0.      1.      1.0237]\n",
      " [ 2.     -0.      0.      1.      1.0364]\n",
      " [ 3.     -0.      0.      1.      1.1609]\n",
      " [ 4.      0.      0.      1.      1.0364]\n",
      " [ 5.      0.      0.      1.      1.0237]\n",
      " [ 6.      0.      0.      1.      1.0616]\n",
      " [ 7.      0.      0.      1.      0.    ]\n",
      " [ 8.      0.      0.      1.      0.    ]\n",
      " [ 9.      0.      0.      1.      0.    ]\n",
      " [10.     -0.      0.      1.      2.0972]\n",
      " [11.     -0.     -0.      1.      1.2701]\n",
      " [12.     -0.     -0.      1.      1.5811]\n",
      " [13.     -0.     -0.      1.      1.5811]\n",
      " [14.     -0.      0.      1.      0.    ]]\n",
      "[[ 1.     -0.     -0.      1.      0.9692]\n",
      " [ 2.      0.     -0.      1.      0.9684]\n",
      " [ 3.      0.     -0.      1.      0.9912]\n",
      " [ 4.     -0.     -0.      1.      0.9729]\n",
      " [ 5.     -0.     -0.      1.      0.9519]\n",
      " [ 6.     -0.     -0.      1.      1.018 ]\n",
      " [ 7.     -0.     -0.      1.      0.    ]\n",
      " [ 8.     -0.     -0.      1.      0.    ]\n",
      " [ 9.     -0.     -0.      1.      0.    ]\n",
      " [10.      0.     -0.      1.      2.0635]\n",
      " [11.      0.      0.      1.      0.9343]\n",
      " [12.      0.      0.      1.      0.8957]\n",
      " [13.      0.      0.      1.      1.6086]\n",
      " [14.      0.     -0.      1.      0.    ]]\n",
      "[[ 1.      0.      0.      1.      0.8749]\n",
      " [ 2.     -0.      0.      1.      0.8811]\n",
      " [ 3.     -0.      0.      1.      0.875 ]\n",
      " [ 4.      0.      0.      1.      0.881 ]\n",
      " [ 5.      0.      0.      1.      0.875 ]\n",
      " [ 6.      0.      0.      1.      0.8424]\n",
      " [ 7.      0.      0.      1.      0.    ]\n",
      " [ 8.      0.      0.      1.      0.    ]\n",
      " [ 9.      0.      0.      1.      0.    ]\n",
      " [10.     -0.      0.      1.      1.7951]\n",
      " [11.     -0.     -0.      1.      1.154 ]\n",
      " [12.     -0.     -0.      1.      1.3559]\n",
      " [13.     -0.     -0.      1.      1.3559]\n",
      " [14.     -0.      0.      1.      0.    ]]\n",
      "--双描述符(pi)--\n",
      "(3, 0.053460585834655516)\n",
      "(5, -0.005115265781136857)\n",
      "(2, -0.019288927246974064)\n",
      "(4, -0.028325248089742572)\n",
      "(1, -0.039665018118927975)\n",
      "(6, -0.13206227967248918)\n",
      "--双描述符--\n",
      "(5, 0.06382622237855617)\n",
      "(1, 0.03321825402750278)\n",
      "(3, 0.027694214618906976)\n",
      "(2, -0.034903192067003985)\n",
      "(4, -0.037600187166315635)\n",
      "(6, -0.05246821510271982)\n"
     ]
    }
   ],
   "source": [
    "iatm=0\n",
    "mol0=mols0[iatm]\n",
    "moln=molsn[iatm]\n",
    "molp=molsp[iatm]\n",
    "vals0=charge.Calculator(mol0).piElectron('mulliken')\n",
    "valsn=charge.Calculator(moln).piElectron('mulliken')\n",
    "valsp=charge.Calculator(molp).piElectron('mulliken')\n",
    "reasn=vals0[:,-1]-valsp[:,-1]\n",
    "reasp=valsn[:,-1]-vals0[:,-1]\n",
    "reasd=reasp-reasn\n",
    "resList=[]\n",
    "atms=vals0[:,0]\n",
    "print(valsn)\n",
    "print(vals0)\n",
    "print(valsp)\n",
    "for i,atm in enumerate(atms):\n",
    "    atom=mol0.atom(int(atm))\n",
    "    resList.append((atom.idx,reasd[i].item()))\n",
    "resList.sort(key=lambda x:x[1],reverse=True)\n",
    "print('--双描述符(pi)--')\n",
    "for each in resList:\n",
    "    atm=each[0]\n",
    "    if mol0.atom(atm).symbol!='C':continue\n",
    "    print(each)\n",
    "\n",
    "vals0=charge.Calculator(mol0).charge('mulliken')\n",
    "valsn=charge.Calculator(moln).charge('mulliken')\n",
    "valsp=charge.Calculator(molp).charge('mulliken')\n",
    "reasn=valsp-vals0\n",
    "reasp=vals0-valsn\n",
    "reasd=reasp-reasn\n",
    "resList=[]\n",
    "for i,atom in enumerate(mol0.atoms):\n",
    "    resList.append((atom.idx,reasd[i].item()))\n",
    "resList.sort(key=lambda x:x[1],reverse=True)\n",
    "print('--双描述符--')\n",
    "for each in resList:\n",
    "    atm=each[0]\n",
    "    if mol0.atom(atm).symbol!='C':continue\n",
    "    print(each)"
   ]
  },
  {
   "cell_type": "code",
   "execution_count": 12,
   "metadata": {},
   "outputs": [
    {
     "name": "stdout",
     "output_type": "stream",
     "text": [
      "<C6H3Cl2O2N1,14,96,0,1>\n"
     ]
    },
    {
     "data": {
      "text/plain": [
       "[(13, 0.37146364576057245),\n",
       " (14, 0.32931316622856777),\n",
       " (3, 0.033685174425004405),\n",
       " (1, 0.032322285919044624),\n",
       " (5, 0.024066081556465058),\n",
       " (8, 0.01635991709963025),\n",
       " (4, -0.001063373982926663),\n",
       " (6, -0.007868598818927097),\n",
       " (9, -0.014036842468115207),\n",
       " (2, -0.01966105388199768),\n",
       " (7, -0.042210598146586564),\n",
       " (10, -0.10769034732788896),\n",
       " (11, -0.1413022589587598),\n",
       " (12, -0.4043819622695972)]"
      ]
     },
     "execution_count": 12,
     "metadata": {},
     "output_type": "execute_result"
    }
   ],
   "source": [
    "mol0=mols0[iatm]\n",
    "moln=molsn[iatm]\n",
    "molp=molsp[iatm]\n",
    "print(mol0)\n",
    "vals0=charge.Calculator(mol0).charge('mulliken')\n",
    "valsn=charge.Calculator(moln).charge('mulliken')\n",
    "valsp=charge.Calculator(molp).charge('mulliken')\n",
    "reasn=valsp-vals0\n",
    "reasp=vals0-valsn\n",
    "reasd=reasp-reasn\n",
    "resList=[]\n",
    "for i,atom in enumerate(mol0.atoms):\n",
    "    resList.append((atom.idx,reasd[i].item()))\n",
    "resList.sort(key=lambda x:x[1],reverse=True)\n",
    "resList"
   ]
  },
  {
   "cell_type": "code",
   "execution_count": 15,
   "metadata": {},
   "outputs": [
    {
     "data": {
      "text/plain": [
       "(array([-0.1284, -0.1426, -0.0538, -0.1431, -0.1128,  0.2672,  0.1728,\n",
       "         0.179 ,  0.1929,  0.0103,  0.254 , -0.1525, -0.2899,  0.176 ]),\n",
       " array([-0.1376, -0.1547, -0.0726, -0.1548, -0.127 ,  0.2881,  0.1173,\n",
       "         0.1083,  0.134 , -0.1087,  0.1357, -0.5642, -0.5718,  0.1079]),\n",
       " array([-0.0894, -0.1093, -0.0417, -0.1149, -0.074 ,  0.2898,  0.2468,\n",
       "         0.2489,  0.2522,  0.26  ,  0.2375, -0.1708, -0.1833,  0.2482]))"
      ]
     },
     "execution_count": 15,
     "metadata": {},
     "output_type": "execute_result"
    }
   ],
   "source": [
    "vals0,valsn,valsp"
   ]
  },
  {
   "cell_type": "code",
   "execution_count": 20,
   "metadata": {},
   "outputs": [
    {
     "data": {
      "text/plain": [
       "array([[ 0.7072,  2.3887, -0.5315],\n",
       "       [-1.9264,  2.2964, -0.4531],\n",
       "       [-3.1343, -0.0078, -0.0052],\n",
       "       [-1.7296, -2.2157,  0.3637],\n",
       "       [ 0.9024, -2.126 ,  0.2813],\n",
       "       [ 2.1034,  0.1818, -0.1615],\n",
       "       [ 1.6588,  4.1596, -0.8739],\n",
       "       [-2.6757, -3.9878,  0.7109],\n",
       "       [ 2.003 , -3.8173,  0.5624],\n",
       "       [-6.4458, -0.1327,  0.0955],\n",
       "       [ 4.886 ,  0.2887, -0.2308],\n",
       "       [ 5.9684,  1.1777,  1.8142],\n",
       "       [ 6.016 , -1.5797, -1.3932],\n",
       "       [-3.021 ,  3.9928, -0.7365]])"
      ]
     },
     "execution_count": 20,
     "metadata": {},
     "output_type": "execute_result"
    }
   ],
   "source": [
    "mol0.coords"
   ]
  },
  {
   "cell_type": "code",
   "execution_count": 19,
   "metadata": {},
   "outputs": [
    {
     "data": {
      "text/plain": [
       "array([[ 0.7072,  2.3887, -0.5315],\n",
       "       [-1.9264,  2.2964, -0.4531],\n",
       "       [-3.1343, -0.0078, -0.0052],\n",
       "       [-1.7296, -2.2157,  0.3637],\n",
       "       [ 0.9024, -2.126 ,  0.2813],\n",
       "       [ 2.1034,  0.1818, -0.1615],\n",
       "       [ 1.6588,  4.1596, -0.8739],\n",
       "       [-2.6757, -3.9878,  0.7109],\n",
       "       [ 2.003 , -3.8173,  0.5624],\n",
       "       [-6.4458, -0.1327,  0.0955],\n",
       "       [ 4.886 ,  0.2887, -0.2308],\n",
       "       [ 5.9684,  1.1777,  1.8142],\n",
       "       [ 6.016 , -1.5797, -1.3932],\n",
       "       [-3.021 ,  3.9928, -0.7365]])"
      ]
     },
     "execution_count": 19,
     "metadata": {},
     "output_type": "execute_result"
    }
   ],
   "source": [
    "moln.coords"
   ]
  },
  {
   "cell_type": "code",
   "execution_count": 21,
   "metadata": {},
   "outputs": [
    {
     "data": {
      "text/plain": [
       "array([-0.0549,  0.0534,  0.0691,  0.075 ,  0.1407, -0.0234,  0.0627,\n",
       "        0.0901,  0.1366,  0.0824, -0.2675, -0.2706])"
      ]
     },
     "execution_count": 21,
     "metadata": {},
     "output_type": "execute_result"
    }
   ],
   "source": [
    "charge.Calculator(mol0).hirshfeld()"
   ]
  },
  {
   "cell_type": "code",
   "execution_count": 22,
   "metadata": {},
   "outputs": [
    {
     "data": {
      "text/plain": [
       "array([-0.501 ,  0.1011,  0.1007,  0.0875,  0.3521, -0.3493,  0.0691,\n",
       "        0.0348,  0.1471,  0.035 , -0.5601, -0.5168])"
      ]
     },
     "execution_count": 22,
     "metadata": {},
     "output_type": "execute_result"
    }
   ],
   "source": [
    "charge.Calculator(moln).mulliken()"
   ]
  },
  {
   "cell_type": "code",
   "execution_count": 13,
   "metadata": {},
   "outputs": [],
   "source": [
    "data=np.load('sn2_reactions.npz')"
   ]
  },
  {
   "cell_type": "code",
   "execution_count": 16,
   "metadata": {},
   "outputs": [
    {
     "data": {
      "text/plain": [
       "['R', 'Q', 'D', 'E', 'F', 'Z', 'N']"
      ]
     },
     "execution_count": 16,
     "metadata": {},
     "output_type": "execute_result"
    }
   ],
   "source": [
    "data.files"
   ]
  },
  {
   "cell_type": "code",
   "execution_count": 19,
   "metadata": {},
   "outputs": [
    {
     "data": {
      "text/plain": [
       "array([[ 0.0008,  0.0009, -5.3912],\n",
       "       [ 0.0018,  1.0295, -5.0417],\n",
       "       [-0.889 , -0.5126, -5.042 ],\n",
       "       [ 0.8917, -0.5138, -5.042 ],\n",
       "       [ 0.0005, -0.0009, -6.7826],\n",
       "       [-0.0003, -0.    ,  2.0475]])"
      ]
     },
     "execution_count": 19,
     "metadata": {},
     "output_type": "execute_result"
    }
   ],
   "source": [
    "data['R'][0]"
   ]
  },
  {
   "cell_type": "code",
   "execution_count": 21,
   "metadata": {},
   "outputs": [
    {
     "data": {
      "text/plain": [
       "(452709,)"
      ]
     },
     "execution_count": 21,
     "metadata": {},
     "output_type": "execute_result"
    }
   ],
   "source": [
    "data['Q'].shape"
   ]
  },
  {
   "cell_type": "code",
   "execution_count": 26,
   "metadata": {},
   "outputs": [
    {
     "data": {
      "text/plain": [
       "array([ 6,  1,  1,  1, 35,  9])"
      ]
     },
     "execution_count": 26,
     "metadata": {},
     "output_type": "execute_result"
    }
   ],
   "source": [
    "data['Z'][2]"
   ]
  }
 ],
 "metadata": {
  "kernelspec": {
   "display_name": "pywfn",
   "language": "python",
   "name": "python3"
  },
  "language_info": {
   "codemirror_mode": {
    "name": "ipython",
    "version": 3
   },
   "file_extension": ".py",
   "mimetype": "text/x-python",
   "name": "python",
   "nbconvert_exporter": "python",
   "pygments_lexer": "ipython3",
   "version": "3.10.14"
  }
 },
 "nbformat": 4,
 "nbformat_minor": 2
}
