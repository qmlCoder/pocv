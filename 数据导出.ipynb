{
 "cells": [
  {
   "cell_type": "code",
   "execution_count": 3,
   "id": "a6490429-7a81-472c-a230-f679daa87980",
   "metadata": {},
   "outputs": [],
   "source": [
    "import numpy as np\n",
    "import pandas as pd"
   ]
  },
  {
   "cell_type": "code",
   "execution_count": 2,
   "id": "7b8e4fef-7a0e-44cc-9297-de0e3a6e96e4",
   "metadata": {},
   "outputs": [],
   "source": [
    "piOrdersP=np.load('数据/piOrders-lianben.npy')\n",
    "piOrdersS=np.load('数据/SpiOrders-lianben.npy')\n",
    "myOrders=np.load('数据/myOrders-lianben.npy')"
   ]
  },
  {
   "cell_type": "code",
   "execution_count": 13,
   "id": "11a744ca-74c0-40cf-8c6b-27fe05846400",
   "metadata": {},
   "outputs": [],
   "source": [
    "xticks=[f'{i}0°' if i<=18 else f'{i-18}0°' for i in range(-9,28)]\n",
    "colums=['3-12','3-2','3-4','12-14']"
   ]
  },
  {
   "cell_type": "code",
   "execution_count": 21,
   "id": "0b8f5a38-1af9-4058-acca-f10b0bfeeb15",
   "metadata": {},
   "outputs": [],
   "source": [
    "xlsx = pd.ExcelWriter('数据/excels/联苯扫描.xlsx')\n",
    "save=lambda data,name:pd.DataFrame(data,columns=colums,index=xticks).to_excel(xlsx,sheet_name=name)\n",
    "save(piOrdersP,'投影pi键级')\n",
    "save(piOrdersS,'扫描pi键级')\n",
    "save(myOrders,'Mayer键级')\n",
    "save(myOrders-1,'Mayer键级-1')\n",
    "xlsx.close()"
   ]
  },
  {
   "cell_type": "code",
   "execution_count": 22,
   "id": "e37a7c0e-c1be-4626-8e2a-c04911641ba1",
   "metadata": {},
   "outputs": [],
   "source": [
    "piOrderP=np.load('数据/取代联苯piOrderP.npy')\n",
    "piOrderS=np.load('数据/取代联苯piOrderS.npy')\n",
    "OrderM=np.load('数据/取代联苯OrderM.npy')"
   ]
  },
  {
   "cell_type": "code",
   "execution_count": 28,
   "id": "ab08c745-07cc-4bd8-84de-8e55264df5d1",
   "metadata": {},
   "outputs": [],
   "source": [
    "xs=np.linspace(-45,-45+360,37)\n",
    "xticks=[f'{x:.0f}°' if x<=180 else f'{x-360:.0f}°' for x in xs]\n",
    "colums=['10-11','10-12','10-3','3-2']\n",
    "xlsx = pd.ExcelWriter('数据/excels/取代联苯扫描.xlsx')\n",
    "save=lambda data,name:pd.DataFrame(data,columns=colums,index=xticks).to_excel(xlsx,sheet_name=name)\n",
    "save(piOrdersS,'扫描pi键级')\n",
    "save(piOrdersP,'投影pi键级')\n",
    "save(myOrders-1,'Mayer键级-1')\n",
    "xlsx.close()"
   ]
  },
  {
   "cell_type": "code",
   "execution_count": null,
   "id": "182faf68-1e44-4a68-b95d-9336c5c90687",
   "metadata": {},
   "outputs": [],
   "source": []
  }
 ],
 "metadata": {
  "kernelspec": {
   "display_name": "Python 3 (ipykernel)",
   "language": "python",
   "name": "python3"
  },
  "language_info": {
   "codemirror_mode": {
    "name": "ipython",
    "version": 3
   },
   "file_extension": ".py",
   "mimetype": "text/x-python",
   "name": "python",
   "nbconvert_exporter": "python",
   "pygments_lexer": "ipython3",
   "version": "3.9.18"
  }
 },
 "nbformat": 4,
 "nbformat_minor": 5
}
