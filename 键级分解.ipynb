{
 "cells": [
  {
   "cell_type": "code",
   "execution_count": 1,
   "metadata": {},
   "outputs": [
    {
     "name": "stdout",
     "output_type": "stream",
     "text": [
      "动态链接库目录 d:\\code\\pywfn\\pywfn\\libs\n",
      "当前系统:windows\n"
     ]
    }
   ],
   "source": [
    "import sys\n",
    "sys.path.append('d:/code/pywfn')\n",
    "from pywfn.base import Mol\n",
    "from pywfn.reader import LogReader\n",
    "from pywfn.bondprop import order\n",
    "import numpy as np"
   ]
  },
  {
   "cell_type": "code",
   "execution_count": 9,
   "metadata": {},
   "outputs": [
    {
     "name": "stdout",
     "output_type": "stream",
     "text": [
      "[[1.     2.     0.9563]\n",
      " [1.     3.     0.9563]\n",
      " [1.     4.     0.9563]\n",
      " [1.     5.     1.0267]\n",
      " [5.     6.     0.9563]\n",
      " [5.     7.     0.9563]\n",
      " [5.     8.     0.9563]]\n"
     ]
    },
    {
     "data": {
      "text/plain": [
       "[1.0197389800125438,\n",
       " 0.14596545849554382,\n",
       " 0.145885457470515,\n",
       " 0.001855245979139272]"
      ]
     },
     "execution_count": 9,
     "metadata": {},
     "output_type": "execute_result"
    }
   ],
   "source": [
    "path=rf\"D:\\gfile\\HFV\\键级分解\\CH3-CH3.log\"\n",
    "mol=Mol(LogReader(path))\n",
    "mol.atom(1)._props['normal']=np.array([1.0,0.0,0.0])\n",
    "mol.atom(5)._props['normal']=np.array([1.0,0.0,0.0])\n",
    "caler=order.Calculator(mol)\n",
    "print(caler.mayer())\n",
    "caler.decompose([1,5])"
   ]
  },
  {
   "cell_type": "code",
   "execution_count": 10,
   "metadata": {},
   "outputs": [
    {
     "name": "stdout",
     "output_type": "stream",
     "text": [
      "[[1.     2.     0.9423]\n",
      " [1.     3.     0.9423]\n",
      " [1.     4.     2.0419]\n",
      " [4.     5.     0.9423]\n",
      " [4.     6.     0.9423]]\n"
     ]
    },
    {
     "data": {
      "text/plain": [
       "[1.0400718470600043,\n",
       " 1.000001178612489,\n",
       " 0.21511697664393242,\n",
       " 7.57596146196813e-31]"
      ]
     },
     "execution_count": 10,
     "metadata": {},
     "output_type": "execute_result"
    }
   ],
   "source": [
    "path=rf\"D:\\gfile\\HFV\\键级分解\\CH2-CH2.log\"\n",
    "mol=Mol(LogReader(path))\n",
    "caler=order.Calculator(mol)\n",
    "print(caler.mayer())\n",
    "caler.decompose([1,4])"
   ]
  },
  {
   "cell_type": "code",
   "execution_count": 11,
   "metadata": {},
   "outputs": [
    {
     "name": "stdout",
     "output_type": "stream",
     "text": [
      "[[1.     2.     0.9225]\n",
      " [1.     3.     2.9704]\n",
      " [3.     4.     0.9225]]\n"
     ]
    },
    {
     "data": {
      "text/plain": [
       "[1.0387080667936879, 1.0000044591430988, 1.000004459143099, 0.0]"
      ]
     },
     "execution_count": 11,
     "metadata": {},
     "output_type": "execute_result"
    }
   ],
   "source": [
    "path=rf\"D:\\gfile\\HFV\\键级分解\\CH-CH.log\"\n",
    "mol=Mol(LogReader(path))\n",
    "mol.atom(1)._props['normal']=np.array([1.0,0.0,0.0])\n",
    "mol.atom(3)._props['normal']=np.array([1.0,0.0,0.0])\n",
    "caler=order.Calculator(mol)\n",
    "print(caler.mayer())\n",
    "caler.decompose([1,3])"
   ]
  },
  {
   "cell_type": "code",
   "execution_count": 12,
   "metadata": {},
   "outputs": [
    {
     "name": "stdout",
     "output_type": "stream",
     "text": [
      "[[1.     2.     1.8473]]\n"
     ]
    },
    {
     "data": {
      "text/plain": [
       "[0.9286136048332274, 0.0, 1.0000119543632446, 1.0135907539379123e-31]"
      ]
     },
     "execution_count": 12,
     "metadata": {},
     "output_type": "execute_result"
    }
   ],
   "source": [
    "path=rf\"D:\\gfile\\HFV\\键级分解\\O2.out\"\n",
    "mol=Mol(LogReader(path))\n",
    "mol.atom(1)._props['normal']=np.array([1.0,0.0,0.0])\n",
    "mol.atom(2)._props['normal']=np.array([1.0,0.0,0.0])\n",
    "caler=order.Calculator(mol)\n",
    "print(caler.mayer())\n",
    "caler.decompose([1,2])"
   ]
  },
  {
   "cell_type": "code",
   "execution_count": 13,
   "metadata": {},
   "outputs": [
    {
     "name": "stdout",
     "output_type": "stream",
     "text": [
      "[0, 1, 2, 3, 4, 5, 6]\n",
      "7\n",
      "[[1.     2.     2.7463]]\n"
     ]
    },
    {
     "data": {
      "text/plain": [
       "[0.895358584223835,\n",
       " 1.0000063112584894,\n",
       " 1.0000063112584894,\n",
       " 3.5560452730539346e-32]"
      ]
     },
     "execution_count": 13,
     "metadata": {},
     "output_type": "execute_result"
    }
   ],
   "source": [
    "path=rf\"D:\\gfile\\HFV\\键级分解\\N2.out\"\n",
    "mol=Mol(LogReader(path))\n",
    "mol.atom(1)._props['normal']=np.array([1.0,0.0,0.0])\n",
    "mol.atom(2)._props['normal']=np.array([1.0,0.0,0.0])\n",
    "print(mol.O_obts)\n",
    "print(len(mol.O_obts))\n",
    "caler=order.Calculator(mol)\n",
    "print(caler.mayer())\n",
    "caler.decompose([1,2])"
   ]
  },
  {
   "cell_type": "code",
   "execution_count": 14,
   "metadata": {},
   "outputs": [
    {
     "name": "stdout",
     "output_type": "stream",
     "text": [
      "[[1.     2.     1.3738]]\n"
     ]
    },
    {
     "data": {
      "text/plain": [
       "[0.9297292573696352,\n",
       " 0.5093784732212792,\n",
       " 0.5093784732212792,\n",
       " 1.8792557473654695e-31]"
      ]
     },
     "execution_count": 14,
     "metadata": {},
     "output_type": "execute_result"
    }
   ],
   "source": [
    "path=rf\"D:\\gfile\\HFV\\键级分解\\O2_T.log\"\n",
    "mol=Mol(LogReader(path))\n",
    "mol.atom(1)._props['normal']=np.array([1.0,0.0,0.0])\n",
    "mol.atom(2)._props['normal']=np.array([1.0,0.0,0.0])\n",
    "caler=order.Calculator(mol)\n",
    "print(caler.mayer())\n",
    "caler.decompose([1,2])"
   ]
  },
  {
   "cell_type": "code",
   "execution_count": 15,
   "metadata": {},
   "outputs": [
    {
     "name": "stdout",
     "output_type": "stream",
     "text": [
      "[0, 1, 2, 3, 4, 5, 6, 7, 30, 31, 32, 33, 34, 35]\n",
      "14\n",
      "[[1.     2.     2.0025]]\n"
     ]
    },
    {
     "data": {
      "text/plain": [
       "[0.8978700875044311,\n",
       " 0.9999412731531706,\n",
       " 0.4854996275478908,\n",
       " 1.1438816400687852e-32]"
      ]
     },
     "execution_count": 15,
     "metadata": {},
     "output_type": "execute_result"
    }
   ],
   "source": [
    "path=rf\"D:\\gfile\\HFV\\键级分解\\N2_T.log\"\n",
    "mol=Mol(LogReader(path))\n",
    "mol.atom(1)._props['normal']=np.array([1.0,0.0,0.0])\n",
    "mol.atom(2)._props['normal']=np.array([1.0,0.0,0.0])\n",
    "print(mol.O_obts)\n",
    "print(len(mol.O_obts))\n",
    "caler=order.Calculator(mol)\n",
    "print(caler.mayer())\n",
    "caler.decompose([1,2])"
   ]
  },
  {
   "cell_type": "code",
   "execution_count": 16,
   "metadata": {},
   "outputs": [
    {
     "name": "stdout",
     "output_type": "stream",
     "text": [
      "[0, 1, 2, 3, 4, 5, 6]\n",
      "7\n",
      "[[1.     2.     2.3867]]\n"
     ]
    },
    {
     "data": {
      "text/plain": [
       "[0.9452859787525766,\n",
       " 0.8856775024218821,\n",
       " 0.8856775024218819,\n",
       " 5.977857903776852e-31]"
      ]
     },
     "execution_count": 16,
     "metadata": {},
     "output_type": "execute_result"
    }
   ],
   "source": [
    "path=rf\"D:\\gfile\\HFV\\键级分解\\CO.log\"\n",
    "mol=Mol(LogReader(path))\n",
    "mol.atom(1)._props['normal']=np.array([1.0,0.0,0.0])\n",
    "mol.atom(2)._props['normal']=np.array([1.0,0.0,0.0])\n",
    "print(mol.O_obts)\n",
    "print(len(mol.O_obts))\n",
    "caler=order.Calculator(mol)\n",
    "print(caler.mayer())\n",
    "caler.decompose([1,2])"
   ]
  }
 ],
 "metadata": {
  "kernelspec": {
   "display_name": "pywfn",
   "language": "python",
   "name": "python3"
  },
  "language_info": {
   "codemirror_mode": {
    "name": "ipython",
    "version": 3
   },
   "file_extension": ".py",
   "mimetype": "text/x-python",
   "name": "python",
   "nbconvert_exporter": "python",
   "pygments_lexer": "ipython3",
   "version": "3.10.14"
  }
 },
 "nbformat": 4,
 "nbformat_minor": 2
}
