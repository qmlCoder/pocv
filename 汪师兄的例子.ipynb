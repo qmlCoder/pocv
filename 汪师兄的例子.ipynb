{
 "cells": [
  {
   "cell_type": "code",
   "execution_count": 1,
   "metadata": {},
   "outputs": [
    {
     "name": "stdout",
     "output_type": "stream",
     "text": [
      "动态链接库目录 D:\\code\\pywfn\\pywfn\\libs\n",
      "当前系统:windows\n"
     ]
    }
   ],
   "source": [
    "import numpy as np\n",
    "import pyvista as pv\n",
    "from pyvista.plotting.plotter import Plotter\n",
    "import matplotlib.pyplot as plt\n",
    "import matplotlib as mpl\n",
    "import sys\n",
    "sys.path.append(rf\"D:\\code\\pywfn\")\n",
    "from pywfn.base import Mol\n",
    "from pywfn.reader import LogReader\n",
    "from pywfn.atomprop import activity,direction\n",
    "from pywfn.bondprop import piDM\n",
    "from pywfn.maths import points_rotate\n",
    "import matplotlib.pyplot as plt\n",
    "import matplotlib as mpl\n",
    "from pathlib import Path\n",
    "from pywfn.utils import printer\n",
    "printer.ifShell=False\n",
    "from collections import defaultdict"
   ]
  },
  {
   "cell_type": "code",
   "execution_count": 2,
   "metadata": {},
   "outputs": [],
   "source": [
    "root=rf'D:\\BaiduSyncdisk\\Articles\\HFV\\gfile\\M4\\M4_wfn'\n",
    "# root=r'D:\\BaiduSyncdisk\\Articles\\HFV\\gfile\\NHC\\NHC-wfn'\n",
    "mn=Mol(LogReader(f'{root}-.log'))\n",
    "m0=Mol(LogReader(f'{root}0.log'))\n",
    "mp=Mol(LogReader(f'{root}+.log'))"
   ]
  },
  {
   "cell_type": "markdown",
   "metadata": {},
   "source": [
    "## 计算自由价"
   ]
  },
  {
   "cell_type": "code",
   "execution_count": 3,
   "metadata": {},
   "outputs": [
    {
     "name": "stdout",
     "output_type": "stream",
     "text": [
      "[[-2.6393 -0.469  -3.2388]]\n",
      "[[-2.6393 -0.469  -3.2388]]\n",
      "[[-2.6393 -0.469  -3.2388]]\n",
      "[[-2.6393 -0.469  -3.2388]]\n",
      "[[-2.6393 -0.469  -3.2388]]\n",
      "[[-2.6393 -0.469  -3.2388]]\n",
      "[[-2.6393 -0.469  -3.2388]]\n",
      "[[-2.6393 -0.469  -3.2388]]\n",
      "[[-2.6393 -0.469  -3.2388]]\n"
     ]
    }
   ],
   "source": [
    "results=defaultdict(list)\n",
    "for m,mol in enumerate([mn,m0,mp]):\n",
    "    valCaler=activity.Calculator(mol)\n",
    "    dirCaler=direction.Calculator(mol)\n",
    "    for atm in [3,25,26,27]:\n",
    "        dirs=dirCaler.reactions(atm)\n",
    "        result=valCaler.freeValence(atm,dirs)\n",
    "        results[atm].append(result)"
   ]
  },
  {
   "cell_type": "code",
   "execution_count": 4,
   "metadata": {},
   "outputs": [
    {
     "name": "stdout",
     "output_type": "stream",
     "text": [
      "3 0 1.1719985063448644\n",
      "25 13 1.0928647426143943\n",
      "26 53 1.2773290423002641\n",
      "27 0 1.027941729494378\n"
     ]
    }
   ],
   "source": [
    "atms=list(results.keys())\n",
    "for atm in atms:\n",
    "    vals=results[atm][1][:,-1]\n",
    "    idx=np.argmax(vals)\n",
    "    print(atm,idx,np.max(vals))"
   ]
  },
  {
   "cell_type": "code",
   "execution_count": 5,
   "metadata": {},
   "outputs": [
    {
     "data": {
      "text/plain": [
       "(57, 5)"
      ]
     },
     "execution_count": 5,
     "metadata": {},
     "output_type": "execute_result"
    }
   ],
   "source": [
    "results[26][1].shape"
   ]
  },
  {
   "cell_type": "code",
   "execution_count": 7,
   "metadata": {},
   "outputs": [
    {
     "name": "stdout",
     "output_type": "stream",
     "text": [
      "[  0.1156,  0.5738,  0.8108,  1.0279],\n",
      "[ -0.1156, -0.5738, -0.8108,  1.0279],\n"
     ]
    }
   ],
   "source": [
    "for _,x,y,z,v in results[27][1]:\n",
    "    print(f'[{x:>8.4f},{y:>8.4f},{z:>8.4f},{v:>8.4f}],')"
   ]
  },
  {
   "cell_type": "code",
   "execution_count": 20,
   "metadata": {},
   "outputs": [
    {
     "name": "stdout",
     "output_type": "stream",
     "text": [
      "  3,    1.4664,    1.1720,    1.5080,    0.2944,    0.3360\n",
      " 25,    1.2494,    1.0929,    1.2537,    0.1769,    0.1812\n",
      " 26,    1.4489,    1.2742,    1.4406,    0.1772,    0.1667\n",
      " 27,    1.1652,    1.0279,    1.1613,    0.1373,    0.1333\n"
     ]
    }
   ],
   "source": [
    "atms=list(results.keys())\n",
    "for i in range(4):\n",
    "    atm=atms[i]\n",
    "    vns=results[atm][0][:,-1]\n",
    "    v0s=results[atm][1][:,-1]\n",
    "    vps=results[atm][2][:,-1]\n",
    "    vn=np.max(vns)\n",
    "    v0=np.max(v0s)\n",
    "    vp=np.max(vps)\n",
    "    mn=np.max(vns-v0s)\n",
    "    mp=np.max(vps-v0s)\n",
    "    print(f'{atm:>3},{vn:>10.4f},{v0:>10.4f},{vp:>10.4f},{mn:>10.4f},{mp:>10.4f}')"
   ]
  },
  {
   "cell_type": "code",
   "execution_count": 32,
   "metadata": {},
   "outputs": [],
   "source": [
    "results[atms[2]][1]=results[atms[2]][1][19:,:]"
   ]
  },
  {
   "cell_type": "code",
   "execution_count": 36,
   "metadata": {},
   "outputs": [
    {
     "name": "stdout",
     "output_type": "stream",
     "text": [
      "[3,  0.30,  0.48,  0.83, 1.172],\n",
      "[3, -0.30, -0.48, -0.83, 1.172],\n",
      "[25,  0.00, -0.04,  1.00, 1.082],\n",
      "[25,  0.08,  0.12,  0.99, 1.079],\n",
      "[25,  0.16,  0.28,  0.95, 1.075],\n",
      "[25,  0.23,  0.43,  0.87, 1.073],\n",
      "[25,  0.30,  0.56,  0.77, 1.073],\n",
      "[25,  0.35,  0.68,  0.65, 1.073],\n",
      "[25,  0.40,  0.77,  0.50, 1.075],\n",
      "[25,  0.43,  0.84,  0.34, 1.078],\n",
      "[25,  0.45,  0.88,  0.17, 1.082],\n",
      "[25,  0.45,  0.89, -0.01, 1.085],\n",
      "[25,  0.44,  0.88, -0.19, 1.088],\n",
      "[25,  0.41,  0.83, -0.36, 1.091],\n",
      "[25,  0.38,  0.76, -0.52, 1.092],\n",
      "[25,  0.33,  0.67, -0.67, 1.093],\n",
      "[25,  0.27,  0.55, -0.79, 1.092],\n",
      "[25,  0.20,  0.42, -0.89, 1.091],\n",
      "[25,  0.12,  0.27, -0.95, 1.088],\n",
      "[25,  0.04,  0.12, -0.99, 1.084],\n",
      "[25, -0.04, -0.04, -1.00, 1.081],\n",
      "[25, -0.12, -0.20, -0.97, 1.077],\n",
      "[25, -0.20, -0.35, -0.91, 1.074],\n",
      "[25, -0.27, -0.50, -0.83, 1.073],\n",
      "[25, -0.33, -0.62, -0.71, 1.073],\n",
      "[25, -0.38, -0.72, -0.58, 1.074],\n",
      "[25, -0.41, -0.81, -0.42, 1.077],\n",
      "[25, -0.44, -0.86, -0.25, 1.080],\n",
      "[25, -0.45, -0.89, -0.08, 1.083],\n",
      "[25, -0.45, -0.89,  0.10, 1.087],\n",
      "[25, -0.43, -0.86,  0.28, 1.090],\n",
      "[25, -0.40, -0.80,  0.45, 1.092],\n",
      "[25, -0.35, -0.72,  0.60, 1.093],\n",
      "[25, -0.30, -0.61,  0.73, 1.093],\n",
      "[25, -0.23, -0.49,  0.84, 1.092],\n",
      "[25, -0.16, -0.35,  0.92, 1.089],\n",
      "[25, -0.08, -0.19,  0.98, 1.086],\n",
      "[26,  0.00,  0.03, -1.00, 1.241],\n",
      "[26,  0.06,  0.20, -0.98, 1.219],\n",
      "[26,  0.11,  0.36, -0.93, 1.195],\n",
      "[26,  0.17,  0.51, -0.84, 1.174],\n",
      "[26,  0.21,  0.64, -0.74, 1.157],\n",
      "[26,  0.25,  0.76, -0.60, 1.146],\n",
      "[26,  0.29,  0.85, -0.45, 1.144],\n",
      "[26,  0.31,  0.91, -0.28, 1.150],\n",
      "[26,  0.32,  0.94, -0.11, 1.163],\n",
      "[26,  0.32,  0.94,  0.07, 1.183],\n",
      "[26,  0.32,  0.92,  0.25, 1.205],\n",
      "[26,  0.30,  0.86,  0.42, 1.228],\n",
      "[26,  0.27,  0.77,  0.57, 1.249],\n",
      "[26,  0.23,  0.66,  0.71, 1.264],\n",
      "[26,  0.19,  0.53,  0.82, 1.273],\n",
      "[26,  0.14,  0.39,  0.91, 1.273],\n",
      "[26,  0.09,  0.23,  0.97, 1.265],\n",
      "[26,  0.03,  0.06,  1.00, 1.250],\n",
      "[26, -0.03, -0.11,  0.99, 1.230],\n",
      "[27,  0.12,  0.57,  0.81, 1.028],\n",
      "[27, -0.12, -0.57, -0.81, 1.028],\n"
     ]
    }
   ],
   "source": [
    "\n",
    "atms=list(results.keys())\n",
    "maxs={atm:0 for atm in atms}\n",
    "idx=0\n",
    "for atm in atms:\n",
    "    for i,(a,x,y,z,v) in enumerate(results[atm][1]):\n",
    "        print(f'[{a:.0f},{x:>6.2f},{y:>6.2f},{z:>6.2f},{v:>6.3f}],')\n",
    "        idx+=1\n",
    "        if v>maxs[atm]:maxs[atm]=idx"
   ]
  },
  {
   "cell_type": "markdown",
   "metadata": {},
   "source": [
    "## 计算双描述符"
   ]
  },
  {
   "cell_type": "code",
   "execution_count": 14,
   "metadata": {},
   "outputs": [
    {
     "name": "stdout",
     "output_type": "stream",
     "text": [
      "  3   -0.0296\n",
      " 25   -0.0227\n",
      " 26   -0.0645\n",
      " 27   -0.0039\n"
     ]
    }
   ],
   "source": [
    "from pywfn.atomprop import activity,direction\n",
    "mols:list[Mol]=[mn,m0,mp]\n",
    "atms=[3,25,26,27]\n",
    "for mol in mols:\n",
    "    dirCaler=direction.Calculator(mol)\n",
    "    mol.atom(25)._props['normal']=dirCaler.normal(3)\n",
    "    mol.atom(26)._props['normal']=dirCaler.normal(27)\n",
    "caler=activity.Calculator(m0)\n",
    "res=caler.dual(mn,mp,chrg='mulliken')\n",
    "for i,val in enumerate(res):\n",
    "    if i+1 not in atms:continue\n",
    "    print(f'{i+1:>3}{val:>10.4f}')"
   ]
  },
  {
   "cell_type": "code",
   "execution_count": 17,
   "metadata": {},
   "outputs": [
    {
     "name": "stdout",
     "output_type": "stream",
     "text": [
      "  3   -0.0196\n",
      " 25   -0.0467\n",
      " 26   -0.0755\n",
      " 27   -0.0421\n"
     ]
    }
   ],
   "source": [
    "for atm,val in caler.dual_pi(mn,mp):\n",
    "    if atm not in atms:continue\n",
    "    print(f'{int(atm):>3}{val:>10.4f}')"
   ]
  },
  {
   "cell_type": "code",
   "execution_count": 3,
   "metadata": {},
   "outputs": [
    {
     "data": {
      "text/plain": [
       "array([[ 1.    ,  0.    ,  0.    ,  0.    ,  0.    ],\n",
       "       [ 2.    ,  0.    ,  0.    ,  0.    ,  0.    ],\n",
       "       [ 3.    ,  0.2958,  0.4785,  0.8267,  0.7746],\n",
       "       [ 4.    ,  0.    ,  0.    ,  0.    ,  0.    ],\n",
       "       [ 5.    ,  0.    ,  0.    ,  0.    ,  0.    ],\n",
       "       [ 6.    ,  0.    ,  0.    ,  0.    ,  0.    ],\n",
       "       [ 7.    ,  0.    ,  0.    ,  0.    ,  0.    ],\n",
       "       [ 8.    ,  0.    ,  0.    ,  0.    ,  0.    ],\n",
       "       [ 9.    ,  0.    ,  0.    ,  0.    ,  0.    ],\n",
       "       [10.    ,  0.    ,  0.    ,  0.    ,  0.    ],\n",
       "       [11.    ,  0.    ,  0.    ,  0.    ,  0.    ],\n",
       "       [12.    ,  0.    ,  0.    ,  0.    ,  0.    ],\n",
       "       [13.    ,  0.    ,  0.    ,  0.    ,  0.    ],\n",
       "       [14.    ,  0.9178,  0.2795,  0.2821,  1.7893],\n",
       "       [15.    ,  0.9178,  0.2795,  0.2821,  0.5965],\n",
       "       [16.    ,  0.9178,  0.2795,  0.2821,  1.5882],\n",
       "       [17.    ,  0.9188,  0.2796,  0.2787,  1.8668],\n",
       "       [18.    ,  0.    ,  0.    ,  0.    ,  0.    ],\n",
       "       [19.    ,  0.    ,  0.    ,  0.    ,  0.    ],\n",
       "       [20.    ,  0.    ,  0.    ,  0.    ,  0.    ],\n",
       "       [21.    ,  0.    ,  0.    ,  0.    ,  0.    ],\n",
       "       [22.    ,  0.    ,  0.    ,  0.    ,  0.    ],\n",
       "       [23.    ,  0.    ,  0.    ,  0.    ,  0.    ],\n",
       "       [24.    ,  0.    ,  0.    ,  0.    ,  0.    ],\n",
       "       [25.    ,  0.    ,  0.    ,  0.    ,  0.    ],\n",
       "       [26.    ,  0.    ,  0.    ,  0.    ,  0.    ],\n",
       "       [27.    ,  0.1156,  0.5738,  0.8108,  0.7881],\n",
       "       [28.    ,  0.1156,  0.5738,  0.8108,  1.7786],\n",
       "       [29.    ,  0.    ,  0.    ,  0.    ,  0.    ],\n",
       "       [30.    ,  0.0402, -0.4069,  0.9126,  0.9424],\n",
       "       [31.    ,  0.0156, -0.4151,  0.9097,  1.0605],\n",
       "       [32.    ,  0.0267, -0.3924,  0.9194,  0.8536],\n",
       "       [33.    ,  0.0205, -0.3822,  0.9239,  1.1123],\n",
       "       [34.    ,  0.0296, -0.3988,  0.9166,  0.9004],\n",
       "       [35.    ,  0.0362, -0.4002,  0.9157,  1.0203],\n",
       "       [36.    ,  0.    ,  0.    ,  0.    ,  0.    ],\n",
       "       [37.    ,  0.0267, -0.3924,  0.9194,  0.002 ],\n",
       "       [38.    ,  0.0296, -0.3988,  0.9166,  0.0021],\n",
       "       [39.    ,  0.0362, -0.4002,  0.9157,  0.0025],\n",
       "       [40.    ,  0.    ,  0.    ,  0.    ,  0.    ],\n",
       "       [41.    ,  0.1556,  0.5747,  0.8034,  0.8825],\n",
       "       [42.    ,  0.    ,  0.    ,  0.    ,  0.    ],\n",
       "       [43.    ,  0.    ,  0.    ,  0.    ,  0.    ],\n",
       "       [44.    ,  0.    ,  0.    ,  0.    ,  0.    ],\n",
       "       [45.    ,  0.1219,  0.5934,  0.7956,  0.7553],\n",
       "       [46.    ,  0.    ,  0.    ,  0.    ,  0.    ],\n",
       "       [47.    ,  0.    ,  0.    ,  0.    ,  0.    ],\n",
       "       [48.    ,  0.1253,  0.5971,  0.7924,  1.2353],\n",
       "       [49.    ,  0.144 ,  0.5962,  0.7898,  1.625 ],\n",
       "       [50.    ,  0.1507,  0.6104,  0.7776,  1.6379],\n",
       "       [51.    ,  0.1255, -0.8137,  0.5676,  1.1852],\n",
       "       [52.    ,  0.1224, -0.8244,  0.5526,  0.9165],\n",
       "       [53.    ,  0.1328, -0.7997,  0.5855,  0.8986],\n",
       "       [54.    ,  0.1122, -0.8164,  0.5665,  1.0597],\n",
       "       [55.    ,  0.114 , -0.8116,  0.573 ,  1.0541],\n",
       "       [56.    ,  0.1181, -0.8142,  0.5685,  0.9126],\n",
       "       [57.    ,  0.1122, -0.8164,  0.5665,  0.0027],\n",
       "       [58.    ,  0.114 , -0.8116,  0.573 ,  0.0026],\n",
       "       [59.    , -0.4983,  0.8015,  0.3305,  1.963 ],\n",
       "       [60.    ,  0.    ,  0.    ,  0.    ,  0.    ],\n",
       "       [61.    ,  0.    ,  0.    ,  0.    ,  0.    ],\n",
       "       [62.    ,  0.    ,  0.    ,  0.    ,  0.    ],\n",
       "       [63.    ,  0.    ,  0.    ,  0.    ,  0.    ],\n",
       "       [64.    ,  0.    ,  0.    ,  0.    ,  0.    ],\n",
       "       [65.    ,  0.    ,  0.    ,  0.    ,  0.    ],\n",
       "       [66.    ,  0.    ,  0.    ,  0.    ,  0.    ],\n",
       "       [67.    ,  0.    ,  0.    ,  0.    ,  0.    ],\n",
       "       [68.    ,  0.    ,  0.    ,  0.    ,  0.    ],\n",
       "       [69.    ,  0.    ,  0.    ,  0.    ,  0.    ],\n",
       "       [70.    ,  0.    ,  0.    ,  0.    ,  0.    ],\n",
       "       [71.    ,  0.    ,  0.    ,  0.    ,  0.    ],\n",
       "       [72.    ,  0.    ,  0.    ,  0.    ,  0.    ],\n",
       "       [73.    ,  0.    ,  0.    ,  0.    ,  0.    ],\n",
       "       [74.    ,  0.    ,  0.    ,  0.    ,  0.    ],\n",
       "       [75.    , -0.2887, -0.4697,  0.8343,  0.9757],\n",
       "       [76.    , -0.2887, -0.4697,  0.8343,  1.4812],\n",
       "       [77.    , -0.2887, -0.4697,  0.8343,  1.4465]])"
      ]
     },
     "execution_count": 3,
     "metadata": {},
     "output_type": "execute_result"
    }
   ],
   "source": [
    "from pywfn.atomprop import charge\n",
    "charge.Calculator(m0).piElectron('mulliken')"
   ]
  },
  {
   "cell_type": "code",
   "execution_count": 3,
   "metadata": {},
   "outputs": [
    {
     "data": {
      "text/plain": [
       "array([0.2958, 0.4785, 0.8267])"
      ]
     },
     "execution_count": 3,
     "metadata": {},
     "output_type": "execute_result"
    }
   ],
   "source": [
    "from pywfn.atomprop import direction\n",
    "direction.Calculator(m0).normal(3)"
   ]
  }
 ],
 "metadata": {
  "kernelspec": {
   "display_name": "pywfn",
   "language": "python",
   "name": "python3"
  },
  "language_info": {
   "codemirror_mode": {
    "name": "ipython",
    "version": 3
   },
   "file_extension": ".py",
   "mimetype": "text/x-python",
   "name": "python",
   "nbconvert_exporter": "python",
   "pygments_lexer": "ipython3",
   "version": "3.10.14"
  }
 },
 "nbformat": 4,
 "nbformat_minor": 2
}
