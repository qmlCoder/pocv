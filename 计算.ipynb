{
 "cells": [
  {
   "cell_type": "code",
   "execution_count": 1,
   "id": "27a2c5f4-e15c-42b4-8e34-6b0eed1ca4dc",
   "metadata": {},
   "outputs": [],
   "source": [
    "import numpy as np"
   ]
  },
  {
   "cell_type": "code",
   "execution_count": 27,
   "id": "ae4384c9-954f-4301-8a56-33271c202fce",
   "metadata": {},
   "outputs": [],
   "source": [
    "f=lambda xs:np.sum((xs-xs.mean())**2)/len(xs)"
   ]
  },
  {
   "cell_type": "code",
   "execution_count": 28,
   "id": "05278e60-be62-49aa-87a0-0a26db7d4586",
   "metadata": {},
   "outputs": [
    {
     "data": {
      "text/plain": [
       "(0.05749599999999999, 0.0, 0.1811265306122449, 0.1218)"
      ]
     },
     "execution_count": 28,
     "metadata": {},
     "output_type": "execute_result"
    }
   ],
   "source": [
    "orders0=np.array([0.91,0.40,0.84,0.40,0.91])\n",
    "orders1=np.array([0.66,0.66,0.66,0.66,0.66,0.66])\n",
    "orders2=np.array([1.00,1.00,1.00,0.14,0.14,0.14,0.14])\n",
    "orders4=np.array([0.94,0.81,0.95,0.21,0.21,0.19,0.19])\n",
    "f(orders0),f(orders1),f(orders2),f(orders4)"
   ]
  },
  {
   "cell_type": "code",
   "execution_count": 29,
   "id": "6b6c81e8-bac9-46bb-a02a-147e3a093997",
   "metadata": {},
   "outputs": [
    {
     "data": {
      "text/plain": [
       "0.23522500000000005"
      ]
     },
     "execution_count": 29,
     "metadata": {},
     "output_type": "execute_result"
    }
   ],
   "source": [
    "os=np.array([0.11,0.11,1.08,1.08])\n",
    "f(os)"
   ]
  },
  {
   "cell_type": "code",
   "execution_count": null,
   "id": "d9c1ea04-3c08-49d8-b443-6604de5dc1dd",
   "metadata": {},
   "outputs": [],
   "source": []
  }
 ],
 "metadata": {
  "kernelspec": {
   "display_name": "Python 3 (ipykernel)",
   "language": "python",
   "name": "python3"
  },
  "language_info": {
   "codemirror_mode": {
    "name": "ipython",
    "version": 3
   },
   "file_extension": ".py",
   "mimetype": "text/x-python",
   "name": "python",
   "nbconvert_exporter": "python",
   "pygments_lexer": "ipython3",
   "version": "3.9.18"
  }
 },
 "nbformat": 4,
 "nbformat_minor": 5
}
